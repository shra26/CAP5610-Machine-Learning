{
  "nbformat": 4,
  "nbformat_minor": 0,
  "metadata": {
    "colab": {
      "name": "HW1-problem-1.ipynb",
      "version": "0.3.2",
      "provenance": [],
      "collapsed_sections": []
    },
    "kernelspec": {
      "name": "python3",
      "display_name": "Python 3"
    }
  },
  "cells": [
    {
      "metadata": {
        "id": "ybuswu7B92NV",
        "colab_type": "code",
        "colab": {
          "base_uri": "https://localhost:8080/",
          "height": 34
        },
        "outputId": "e45cc4ed-9e81-490f-ab3b-b1367bbca715"
      },
      "cell_type": "code",
      "source": [
        "import numpy as np\n",
        "import keras\n",
        "from keras.datasets import mnist\n"
      ],
      "execution_count": 1,
      "outputs": [
        {
          "output_type": "stream",
          "text": [
            "Using TensorFlow backend.\n"
          ],
          "name": "stderr"
        }
      ]
    },
    {
      "metadata": {
        "id": "FjOSQlI-K-s0",
        "colab_type": "code",
        "colab": {}
      },
      "cell_type": "code",
      "source": [
        "learn_rate = 0.005\n",
        "batch_size = 100\n",
        "epoch = 40\n"
      ],
      "execution_count": 0,
      "outputs": []
    },
    {
      "metadata": {
        "id": "QYR_yOWuEKiD",
        "colab_type": "code",
        "colab": {
          "base_uri": "https://localhost:8080/",
          "height": 51
        },
        "outputId": "05d891d0-966a-45ee-f2cb-9c71958bcaae"
      },
      "cell_type": "code",
      "source": [
        "(x_train, y_train),(x_test,y_test) = mnist.load_data()"
      ],
      "execution_count": 3,
      "outputs": [
        {
          "output_type": "stream",
          "text": [
            "Downloading data from https://s3.amazonaws.com/img-datasets/mnist.npz\n",
            "11493376/11490434 [==============================] - 1s 0us/step\n"
          ],
          "name": "stdout"
        }
      ]
    },
    {
      "metadata": {
        "id": "0PbujJypEYFR",
        "colab_type": "code",
        "colab": {}
      },
      "cell_type": "code",
      "source": [
        "x_train = x_train.reshape(x_train.shape[0], x_train.shape[1]* x_train.shape[2])\n",
        "y_train = keras.utils.to_categorical(y_train, 10)"
      ],
      "execution_count": 0,
      "outputs": []
    },
    {
      "metadata": {
        "id": "PQL4EVDIEbK0",
        "colab_type": "code",
        "colab": {}
      },
      "cell_type": "code",
      "source": [
        "x_test = x_test.reshape(x_test.shape[0], x_test.shape[1]*x_test.shape[2])\n",
        "y_t = y_test\n",
        "y_test = keras.utils.to_categorical(y_test,10)"
      ],
      "execution_count": 0,
      "outputs": []
    },
    {
      "metadata": {
        "id": "4S8oZWApGAmT",
        "colab_type": "code",
        "colab": {}
      },
      "cell_type": "code",
      "source": [
        "x_train = x_train.astype('float32')\n",
        "x_test = x_test.astype('float32')\n",
        "x_train = x_train / 255\n",
        "x_test = x_test / 255"
      ],
      "execution_count": 0,
      "outputs": []
    },
    {
      "metadata": {
        "id": "ZActr46BMTci",
        "colab_type": "code",
        "colab": {}
      },
      "cell_type": "code",
      "source": [
        "def initialize_params():\n",
        "#   np.random.seed(1)\n",
        "  w = np.random.randn(10,784)*0.01\n",
        "  b = np.random.randn(10,1)*0.01\n",
        "  return w,b"
      ],
      "execution_count": 0,
      "outputs": []
    },
    {
      "metadata": {
        "id": "9x6aR4YUM4GF",
        "colab_type": "code",
        "colab": {}
      },
      "cell_type": "code",
      "source": [
        "def forward_prop(w,b,x):\n",
        "  op = np.dot(w,np.transpose(x)) + b\n",
        "  return sigmoid(op)"
      ],
      "execution_count": 0,
      "outputs": []
    },
    {
      "metadata": {
        "id": "RxmMTlHjNLRF",
        "colab_type": "code",
        "colab": {}
      },
      "cell_type": "code",
      "source": [
        "def sigmoid(x):\n",
        "  return 1/(1+np.exp(-x))"
      ],
      "execution_count": 0,
      "outputs": []
    },
    {
      "metadata": {
        "id": "cLXDGgPqNXpD",
        "colab_type": "code",
        "colab": {}
      },
      "cell_type": "code",
      "source": [
        "def loss_func(y_train,op,batch_size):\n",
        "  return np.sum(np.multiply((np.transpose(y_train) - op), (np.transpose(y_train) - op))/2, axis = 1, keepdims = True)/batch_size"
      ],
      "execution_count": 0,
      "outputs": []
    },
    {
      "metadata": {
        "id": "LjPuWiuWOLJV",
        "colab_type": "code",
        "colab": {}
      },
      "cell_type": "code",
      "source": [
        "def backward_prop(x_train, y_train, op, w, b, learn_rate, batch_size):\n",
        "  d_loss = - (np.transpose(y_train) - op)\n",
        "  d_sig = sigmoid(op) * (1 - sigmoid(op))\n",
        "  d_z = np.multiply(d_loss, d_sig)\n",
        "  d_w = np.dot(d_z, x_train)\n",
        "  d_b = np.sum(d_z, axis = 1, keepdims = True)\n",
        "  w = w - learn_rate * d_w\n",
        "  b = b - learn_rate * d_b\n",
        "  return w,b"
      ],
      "execution_count": 0,
      "outputs": []
    },
    {
      "metadata": {
        "id": "7fAFhqHHQ1ZA",
        "colab_type": "code",
        "colab": {
          "base_uri": "https://localhost:8080/",
          "height": 2057
        },
        "outputId": "44b735fb-dcb1-40ed-f8b5-3638588b13a7"
      },
      "cell_type": "code",
      "source": [
        "w,b = initialize_params()\n",
        "for k in range(epoch):\n",
        "  for i in range(0, x_train.shape[0], batch_size):\n",
        "    op = forward_prop(w, b, x_train[i : i + batch_size])\n",
        "    w,b = backward_prop(x_train[i : i + batch_size], y_train[i : i + batch_size], op, w, b, learn_rate, batch_size)\n",
        "  output = forward_prop(w, b, x_test)\n",
        "  output = np.transpose(output)\n",
        "  output_list = list()\n",
        "  for j in range(10000):\n",
        "    output_list.append(np.argmax(output[j]))\n",
        "  count = 0\n",
        "  for m in range(10000):\n",
        "    if output_list[m] == y_t[m]:\n",
        "      count += 1\n",
        "  accuracy = count/100\n",
        "  print('epoch: ', k)\n",
        "  print(count, '/10000')\n",
        "  print('accuracy: ', accuracy)"
      ],
      "execution_count": 12,
      "outputs": [
        {
          "output_type": "stream",
          "text": [
            "epoch:  0\n",
            "8951 /10000\n",
            "accuracy:  89.51\n",
            "epoch:  1\n",
            "9046 /10000\n",
            "accuracy:  90.46\n",
            "epoch:  2\n",
            "9080 /10000\n",
            "accuracy:  90.8\n",
            "epoch:  3\n",
            "9105 /10000\n",
            "accuracy:  91.05\n",
            "epoch:  4\n",
            "9115 /10000\n",
            "accuracy:  91.15\n",
            "epoch:  5\n",
            "9125 /10000\n",
            "accuracy:  91.25\n",
            "epoch:  6\n",
            "9133 /10000\n",
            "accuracy:  91.33\n",
            "epoch:  7\n",
            "9141 /10000\n",
            "accuracy:  91.41\n",
            "epoch:  8\n",
            "9144 /10000\n",
            "accuracy:  91.44\n",
            "epoch:  9\n",
            "9151 /10000\n",
            "accuracy:  91.51\n",
            "epoch:  10\n",
            "9156 /10000\n",
            "accuracy:  91.56\n",
            "epoch:  11\n",
            "9156 /10000\n",
            "accuracy:  91.56\n",
            "epoch:  12\n",
            "9156 /10000\n",
            "accuracy:  91.56\n",
            "epoch:  13\n",
            "9151 /10000\n",
            "accuracy:  91.51\n",
            "epoch:  14\n",
            "9156 /10000\n",
            "accuracy:  91.56\n",
            "epoch:  15\n",
            "9156 /10000\n",
            "accuracy:  91.56\n",
            "epoch:  16\n",
            "9154 /10000\n",
            "accuracy:  91.54\n",
            "epoch:  17\n",
            "9152 /10000\n",
            "accuracy:  91.52\n",
            "epoch:  18\n",
            "9153 /10000\n",
            "accuracy:  91.53\n",
            "epoch:  19\n",
            "9158 /10000\n",
            "accuracy:  91.58\n",
            "epoch:  20\n",
            "9161 /10000\n",
            "accuracy:  91.61\n",
            "epoch:  21\n",
            "9160 /10000\n",
            "accuracy:  91.6\n",
            "epoch:  22\n",
            "9162 /10000\n",
            "accuracy:  91.62\n",
            "epoch:  23\n",
            "9163 /10000\n",
            "accuracy:  91.63\n",
            "epoch:  24\n",
            "9164 /10000\n",
            "accuracy:  91.64\n",
            "epoch:  25\n",
            "9166 /10000\n",
            "accuracy:  91.66\n",
            "epoch:  26\n",
            "9164 /10000\n",
            "accuracy:  91.64\n",
            "epoch:  27\n",
            "9166 /10000\n",
            "accuracy:  91.66\n",
            "epoch:  28\n",
            "9166 /10000\n",
            "accuracy:  91.66\n",
            "epoch:  29\n",
            "9169 /10000\n",
            "accuracy:  91.69\n",
            "epoch:  30\n",
            "9170 /10000\n",
            "accuracy:  91.7\n",
            "epoch:  31\n",
            "9172 /10000\n",
            "accuracy:  91.72\n",
            "epoch:  32\n",
            "9173 /10000\n",
            "accuracy:  91.73\n",
            "epoch:  33\n",
            "9174 /10000\n",
            "accuracy:  91.74\n",
            "epoch:  34\n",
            "9178 /10000\n",
            "accuracy:  91.78\n",
            "epoch:  35\n",
            "9178 /10000\n",
            "accuracy:  91.78\n",
            "epoch:  36\n",
            "9176 /10000\n",
            "accuracy:  91.76\n",
            "epoch:  37\n",
            "9176 /10000\n",
            "accuracy:  91.76\n",
            "epoch:  38\n",
            "9176 /10000\n",
            "accuracy:  91.76\n",
            "epoch:  39\n",
            "9176 /10000\n",
            "accuracy:  91.76\n"
          ],
          "name": "stdout"
        }
      ]
    },
    {
      "metadata": {
        "id": "Fa2mZOzQYOkU",
        "colab_type": "code",
        "colab": {}
      },
      "cell_type": "code",
      "source": [
        ""
      ],
      "execution_count": 0,
      "outputs": []
    }
  ]
}