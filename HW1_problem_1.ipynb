{
  "nbformat": 4,
  "nbformat_minor": 0,
  "metadata": {
    "colab": {
      "name": "HW1-problem-1.ipynb",
      "version": "0.3.2",
      "provenance": [],
      "collapsed_sections": []
    },
    "kernelspec": {
      "name": "python3",
      "display_name": "Python 3"
    }
  },
  "cells": [
    {
      "metadata": {
        "id": "ybuswu7B92NV",
        "colab_type": "code",
        "colab": {}
      },
      "cell_type": "code",
      "source": [
        "import numpy as np\n",
        "import keras\n",
        "from keras.datasets import mnist\n",
        "import matplotlib.pyplot as plt"
      ],
      "execution_count": 0,
      "outputs": []
    },
    {
      "metadata": {
        "id": "FjOSQlI-K-s0",
        "colab_type": "code",
        "colab": {}
      },
      "cell_type": "code",
      "source": [
        "learn_rate = 0.005 # learning rate on backward propagation\n",
        "batch_size = 100 # batch size \n",
        "epoch = 25\n"
      ],
      "execution_count": 0,
      "outputs": []
    },
    {
      "metadata": {
        "id": "QYR_yOWuEKiD",
        "colab_type": "code",
        "colab": {}
      },
      "cell_type": "code",
      "source": [
        "(x_train, y_train),(x_test,y_test) = mnist.load_data() # load MNIST dataset into training and test sets."
      ],
      "execution_count": 0,
      "outputs": []
    },
    {
      "metadata": {
        "id": "0PbujJypEYFR",
        "colab_type": "code",
        "colab": {}
      },
      "cell_type": "code",
      "source": [
        "x_train = x_train.reshape(x_train.shape[0], x_train.shape[1]* x_train.shape[2]) # data reshape before normalization\n",
        "y_train = keras.utils.to_categorical(y_train, 10) #convert to categorical data instead of numerical data"
      ],
      "execution_count": 0,
      "outputs": []
    },
    {
      "metadata": {
        "id": "PQL4EVDIEbK0",
        "colab_type": "code",
        "colab": {}
      },
      "cell_type": "code",
      "source": [
        "x_test = x_test.reshape(x_test.shape[0], x_test.shape[1]*x_test.shape[2]) # data reshape before normalization\n",
        "temp = y_test #saving original y values for final check\n",
        "y_test = keras.utils.to_categorical(y_test,10) #convert to categorical data instead of numerical data"
      ],
      "execution_count": 0,
      "outputs": []
    },
    {
      "metadata": {
        "id": "4S8oZWApGAmT",
        "colab_type": "code",
        "colab": {}
      },
      "cell_type": "code",
      "source": [
        "x_train = x_train.astype('float32') # Define as float32 type\n",
        "x_test = x_test.astype('float32') # Define as float32 type\n",
        "x_train = x_train / 255 # normalization\n",
        "x_test = x_test / 255 # normalization"
      ],
      "execution_count": 0,
      "outputs": []
    },
    {
      "metadata": {
        "id": "9x6aR4YUM4GF",
        "colab_type": "code",
        "colab": {}
      },
      "cell_type": "code",
      "source": [
        "# logistic regression function step 1\n",
        "def forward_prop(w,b,x):\n",
        "  op = np.dot(w,np.transpose(x)) + b  \n",
        "  return sigmoid(op)"
      ],
      "execution_count": 0,
      "outputs": []
    },
    {
      "metadata": {
        "id": "RxmMTlHjNLRF",
        "colab_type": "code",
        "colab": {}
      },
      "cell_type": "code",
      "source": [
        "# logistic regression function step 2\n",
        "def sigmoid(x):\n",
        "  return 1/(1+np.exp(-x))"
      ],
      "execution_count": 0,
      "outputs": []
    },
    {
      "metadata": {
        "id": "cLXDGgPqNXpD",
        "colab_type": "code",
        "colab": {}
      },
      "cell_type": "code",
      "source": [
        "# mean squared error loss function\n",
        "def loss_func(y_train,op,batch_size):\n",
        "  return np.sum(np.multiply((np.transpose(y_train) - op), (np.transpose(y_train) - op))/2, axis = 1, keepdims = True)/batch_size"
      ],
      "execution_count": 0,
      "outputs": []
    },
    {
      "metadata": {
        "id": "LjPuWiuWOLJV",
        "colab_type": "code",
        "colab": {}
      },
      "cell_type": "code",
      "source": [
        "# Backward Progation based on set learning rate to calculate better weights and bias values\n",
        "def backward_prop(x_train, y_train, op, w, b, learn_rate):\n",
        "  d_loss = - (np.transpose(y_train) - op)\n",
        "  d_sig = sigmoid(op) * (1 - sigmoid(op))\n",
        "  d_z = np.multiply(d_loss, d_sig)\n",
        "  d_w = np.dot(d_z, x_train)\n",
        "  d_b = np.sum(d_z, axis = 1, keepdims = True)\n",
        "  w = w - learn_rate * d_w\n",
        "  b = b - learn_rate * d_b\n",
        "  return w,b"
      ],
      "execution_count": 0,
      "outputs": []
    },
    {
      "metadata": {
        "id": "7fAFhqHHQ1ZA",
        "colab_type": "code",
        "outputId": "d121b83b-8cf5-4219-bc82-2519db697d6c",
        "colab": {
          "base_uri": "https://localhost:8080/",
          "height": 1292
        }
      },
      "cell_type": "code",
      "source": [
        "# initialization of random weights and bias values.\n",
        "np.random.seed(1) # same seed for random functions used so keep the the pseudo random numbers similar. \n",
        "w = np.random.randn(10,784)*0.01\n",
        "b = np.random.randn(10,1)*0.01\n",
        "arr = []\n",
        "for k in range(epoch):\n",
        "  for i in range(0, x_train.shape[0], batch_size):\n",
        "    op = forward_prop(w, b, x_train[i : i + batch_size]) # Training model with logistic regression\n",
        "    w,b = backward_prop(x_train[i : i + batch_size], y_train[i : i + batch_size], op, w, b, learn_rate) \n",
        "  output = forward_prop(w, b, x_test) \n",
        "  output = np.transpose(output)\n",
        "  output_list = list()\n",
        "  for j in range(10000):\n",
        "    output_list.append(np.argmax(output[j]))\n",
        "  counter = 0\n",
        "  for m in range(10000):\n",
        "    if output_list[m] == temp[m]:\n",
        "      counter += 1\n",
        "  print('epoch: ', k+1)\n",
        "  print(counter, '/10000')\n",
        "  print('accuracy: ', counter*0.01)\n",
        "  arr.append(counter*0.01)"
      ],
      "execution_count": 28,
      "outputs": [
        {
          "output_type": "stream",
          "text": [
            "epoch:  1\n",
            "8955 /10000\n",
            "accuracy:  89.55\n",
            "epoch:  2\n",
            "9049 /10000\n",
            "accuracy:  90.49\n",
            "epoch:  3\n",
            "9076 /10000\n",
            "accuracy:  90.76\n",
            "epoch:  4\n",
            "9103 /10000\n",
            "accuracy:  91.03\n",
            "epoch:  5\n",
            "9110 /10000\n",
            "accuracy:  91.10000000000001\n",
            "epoch:  6\n",
            "9125 /10000\n",
            "accuracy:  91.25\n",
            "epoch:  7\n",
            "9127 /10000\n",
            "accuracy:  91.27\n",
            "epoch:  8\n",
            "9141 /10000\n",
            "accuracy:  91.41\n",
            "epoch:  9\n",
            "9143 /10000\n",
            "accuracy:  91.43\n",
            "epoch:  10\n",
            "9151 /10000\n",
            "accuracy:  91.51\n",
            "epoch:  11\n",
            "9151 /10000\n",
            "accuracy:  91.51\n",
            "epoch:  12\n",
            "9156 /10000\n",
            "accuracy:  91.56\n",
            "epoch:  13\n",
            "9155 /10000\n",
            "accuracy:  91.55\n",
            "epoch:  14\n",
            "9157 /10000\n",
            "accuracy:  91.57000000000001\n",
            "epoch:  15\n",
            "9157 /10000\n",
            "accuracy:  91.57000000000001\n",
            "epoch:  16\n",
            "9159 /10000\n",
            "accuracy:  91.59\n",
            "epoch:  17\n",
            "9156 /10000\n",
            "accuracy:  91.56\n",
            "epoch:  18\n",
            "9152 /10000\n",
            "accuracy:  91.52\n",
            "epoch:  19\n",
            "9158 /10000\n",
            "accuracy:  91.58\n",
            "epoch:  20\n",
            "9161 /10000\n",
            "accuracy:  91.61\n",
            "epoch:  21\n",
            "9160 /10000\n",
            "accuracy:  91.60000000000001\n",
            "epoch:  22\n",
            "9160 /10000\n",
            "accuracy:  91.60000000000001\n",
            "epoch:  23\n",
            "9163 /10000\n",
            "accuracy:  91.63\n",
            "epoch:  24\n",
            "9164 /10000\n",
            "accuracy:  91.64\n",
            "epoch:  25\n",
            "9164 /10000\n",
            "accuracy:  91.64\n"
          ],
          "name": "stdout"
        }
      ]
    },
    {
      "metadata": {
        "id": "Fa2mZOzQYOkU",
        "colab_type": "code",
        "colab": {
          "base_uri": "https://localhost:8080/",
          "height": 361
        },
        "outputId": "3ef12aa0-32d8-4cb4-b5a4-7b668a63e063"
      },
      "cell_type": "code",
      "source": [
        "plt.plot(arr, label = 'Accuracy')\n",
        "plt.xlabel('No. of Epochs')\n",
        "plt.ylabel('Accuracy')\n",
        "plt.legend()\n",
        "plt.show()"
      ],
      "execution_count": 29,
      "outputs": [
        {
          "output_type": "display_data",
          "data": {
            "image/png": "[encoded data removed]",
            "text/plain": [
              "<Figure size 576x396 with 1 Axes>"
            ]
          },
          "metadata": {
            "tags": []
          }
        }
      ]
    }
  ]
}