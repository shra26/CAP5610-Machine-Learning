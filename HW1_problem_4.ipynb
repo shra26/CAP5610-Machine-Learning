{
  "nbformat": 4,
  "nbformat_minor": 0,
  "metadata": {
    "colab": {
      "name": "HW1-problem-1.ipynb",
      "version": "0.3.2",
      "provenance": [],
      "collapsed_sections": [],
      "include_colab_link": true
    },
    "kernelspec": {
      "name": "python3",
      "display_name": "Python 3"
    }
  },
  "cells": [
    {
      "cell_type": "markdown",
      "metadata": {
        "id": "view-in-github",
        "colab_type": "text"
      },
      "source": [
        "<a href=\"https://colab.research.google.com/github/shra26/CAP5610-Machine-Learning/blob/master/HW1_problem_4.ipynb\" target=\"_parent\"><img src=\"https://colab.research.google.com/assets/colab-badge.svg\" alt=\"Open In Colab\"/></a>"
      ]
    },
    {
      "metadata": {
        "id": "obQrYH71uz2D",
        "colab_type": "code",
        "colab": {
          "base_uri": "https://localhost:8080/",
          "height": 34
        },
        "outputId": "dff626d1-f604-41eb-b583-0c10c0f0306b"
      },
      "cell_type": "code",
      "source": [
        "import numpy as np\n",
        "import keras\n",
        "from keras.datasets import mnist\n",
        "from keras.models import Sequential\n",
        "from keras.layers import Dense, Activation"
      ],
      "execution_count": 1,
      "outputs": [
        {
          "output_type": "stream",
          "text": [
            "Using TensorFlow backend.\n"
          ],
          "name": "stderr"
        }
      ]
    },
    {
      "metadata": {
        "id": "AGubZHIW2WTA",
        "colab_type": "code",
        "colab": {}
      },
      "cell_type": "code",
      "source": [
        ""
      ],
      "execution_count": 0,
      "outputs": []
    },
    {
      "metadata": {
        "id": "4FDz5HzF2Yhl",
        "colab_type": "text"
      },
      "cell_type": "markdown",
      "source": [
        "Splitting MNIST dataset into training and test datasets and formatting it."
      ]
    },
    {
      "metadata": {
        "id": "i0RFZf4YvaLT",
        "colab_type": "code",
        "colab": {}
      },
      "cell_type": "code",
      "source": [
        "(x_train, y_train), (x_test, y_test) = mnist.load_data()\n",
        "\n"
      ],
      "execution_count": 0,
      "outputs": []
    },
    {
      "metadata": {
        "id": "bSZ5NuiwRU8D",
        "colab_type": "code",
        "colab": {}
      },
      "cell_type": "code",
      "source": [
        "x_train = x_train.reshape(60000,784)\n",
        "y_train = keras.utils.to_categorical(y_train, 10)\n"
      ],
      "execution_count": 0,
      "outputs": []
    },
    {
      "metadata": {
        "id": "VEHBM7WT2pZe",
        "colab_type": "code",
        "colab": {}
      },
      "cell_type": "code",
      "source": [
        "x_test = x_test.reshape(10000,784)\n",
        "y_test = keras.utils.to_categorical(y_test,10)"
      ],
      "execution_count": 0,
      "outputs": []
    },
    {
      "metadata": {
        "id": "qP516_IGfuKD",
        "colab_type": "code",
        "colab": {}
      },
      "cell_type": "code",
      "source": [
        "x_train = x_train.astype('float32')\n",
        "x_test = x_test.astype('float32')"
      ],
      "execution_count": 0,
      "outputs": []
    },
    {
      "metadata": {
        "id": "2ibTsuDtmRGP",
        "colab_type": "code",
        "colab": {}
      },
      "cell_type": "code",
      "source": [
        "x_train /= 255\n",
        "x_test /= 255"
      ],
      "execution_count": 0,
      "outputs": []
    },
    {
      "metadata": {
        "id": "qfNCsyymnMx_",
        "colab_type": "code",
        "colab": {
          "base_uri": "https://localhost:8080/",
          "height": 51
        },
        "outputId": "4717bd08-5476-495d-9fe5-50d195ff4738"
      },
      "cell_type": "code",
      "source": [
        "print(x_train.shape[0], 'train samples')\n",
        "print(x_test.shape[0], 'test samples')"
      ],
      "execution_count": 7,
      "outputs": [
        {
          "output_type": "stream",
          "text": [
            "60000 train samples\n",
            "10000 test samples\n"
          ],
          "name": "stdout"
        }
      ]
    },
    {
      "metadata": {
        "id": "FOZDF7A6oBvS",
        "colab_type": "code",
        "colab": {
          "base_uri": "https://localhost:8080/",
          "height": 88
        },
        "outputId": "a914611e-444e-4c4c-ea55-f1785118aeee"
      },
      "cell_type": "code",
      "source": [
        "model = Sequential()\n",
        "model.add(Dense(10, input_dim= 784, activation= 'softmax' ))"
      ],
      "execution_count": 8,
      "outputs": [
        {
          "output_type": "stream",
          "text": [
            "WARNING:tensorflow:From /usr/local/lib/python3.6/dist-packages/tensorflow/python/framework/op_def_library.py:263: colocate_with (from tensorflow.python.framework.ops) is deprecated and will be removed in a future version.\n",
            "Instructions for updating:\n",
            "Colocations handled automatically by placer.\n"
          ],
          "name": "stdout"
        }
      ]
    },
    {
      "metadata": {
        "id": "HJgeCeEHqBv-",
        "colab_type": "code",
        "colab": {
          "base_uri": "https://localhost:8080/",
          "height": 170
        },
        "outputId": "58186f12-01e7-486a-a8bd-a59d5221b256"
      },
      "cell_type": "code",
      "source": [
        "model.summary()"
      ],
      "execution_count": 9,
      "outputs": [
        {
          "output_type": "stream",
          "text": [
            "_________________________________________________________________\n",
            "Layer (type)                 Output Shape              Param #   \n",
            "=================================================================\n",
            "dense_1 (Dense)              (None, 10)                7850      \n",
            "=================================================================\n",
            "Total params: 7,850\n",
            "Trainable params: 7,850\n",
            "Non-trainable params: 0\n",
            "_________________________________________________________________\n"
          ],
          "name": "stdout"
        }
      ]
    },
    {
      "metadata": {
        "id": "W0PUjBcIqxzj",
        "colab_type": "code",
        "colab": {
          "base_uri": "https://localhost:8080/",
          "height": 819
        },
        "outputId": "bb9e0b04-e610-4a0e-e068-2f00eb6c22f5"
      },
      "cell_type": "code",
      "source": [
        "model.compile(optimizer='sgd', loss='categorical_crossentropy', metrics=['accuracy'])\n",
        "history = model.fit(x_train, y_train, batch_size = 128,epochs = 20, verbose = 1, validation_data = (x_test, y_test))\n",
        "score = model.evaluate(x_test, y_test, verbose = 0)\n",
        "print('test score:', score[0])\n",
        "print('test accuracy:', score[1])"
      ],
      "execution_count": 10,
      "outputs": [
        {
          "output_type": "stream",
          "text": [
            "WARNING:tensorflow:From /usr/local/lib/python3.6/dist-packages/tensorflow/python/ops/math_ops.py:3066: to_int32 (from tensorflow.python.ops.math_ops) is deprecated and will be removed in a future version.\n",
            "Instructions for updating:\n",
            "Use tf.cast instead.\n",
            "Train on 60000 samples, validate on 10000 samples\n",
            "Epoch 1/20\n",
            "60000/60000 [==============================] - 1s 21us/step - loss: 1.2520 - acc: 0.7159 - val_loss: 0.7924 - val_acc: 0.8352\n",
            "Epoch 2/20\n",
            "60000/60000 [==============================] - 1s 18us/step - loss: 0.7061 - acc: 0.8434 - val_loss: 0.5979 - val_acc: 0.8681\n",
            "Epoch 3/20\n",
            "60000/60000 [==============================] - 1s 18us/step - loss: 0.5818 - acc: 0.8613 - val_loss: 0.5196 - val_acc: 0.8777\n",
            "Epoch 4/20\n",
            "60000/60000 [==============================] - 1s 18us/step - loss: 0.5218 - acc: 0.8706 - val_loss: 0.4755 - val_acc: 0.8852\n",
            "Epoch 5/20\n",
            "60000/60000 [==============================] - 1s 18us/step - loss: 0.4852 - acc: 0.8767 - val_loss: 0.4464 - val_acc: 0.8889\n",
            "Epoch 6/20\n",
            "60000/60000 [==============================] - 1s 17us/step - loss: 0.4600 - acc: 0.8810 - val_loss: 0.4260 - val_acc: 0.8925\n",
            "Epoch 7/20\n",
            "60000/60000 [==============================] - 1s 17us/step - loss: 0.4412 - acc: 0.8845 - val_loss: 0.4105 - val_acc: 0.8945\n",
            "Epoch 8/20\n",
            "60000/60000 [==============================] - 1s 17us/step - loss: 0.4266 - acc: 0.8873 - val_loss: 0.3976 - val_acc: 0.8965\n",
            "Epoch 9/20\n",
            "60000/60000 [==============================] - 1s 17us/step - loss: 0.4148 - acc: 0.8891 - val_loss: 0.3877 - val_acc: 0.8989\n",
            "Epoch 10/20\n",
            "60000/60000 [==============================] - 1s 17us/step - loss: 0.4050 - acc: 0.8910 - val_loss: 0.3793 - val_acc: 0.9010\n",
            "Epoch 11/20\n",
            "60000/60000 [==============================] - 1s 18us/step - loss: 0.3967 - acc: 0.8931 - val_loss: 0.3720 - val_acc: 0.9025\n",
            "Epoch 12/20\n",
            "60000/60000 [==============================] - 1s 18us/step - loss: 0.3894 - acc: 0.8942 - val_loss: 0.3657 - val_acc: 0.9031\n",
            "Epoch 13/20\n",
            "60000/60000 [==============================] - 1s 18us/step - loss: 0.3831 - acc: 0.8959 - val_loss: 0.3601 - val_acc: 0.9047\n",
            "Epoch 14/20\n",
            "60000/60000 [==============================] - 1s 18us/step - loss: 0.3776 - acc: 0.8969 - val_loss: 0.3551 - val_acc: 0.9064\n",
            "Epoch 15/20\n",
            "60000/60000 [==============================] - 1s 18us/step - loss: 0.3726 - acc: 0.8983 - val_loss: 0.3511 - val_acc: 0.9067\n",
            "Epoch 16/20\n",
            "60000/60000 [==============================] - 1s 18us/step - loss: 0.3682 - acc: 0.8992 - val_loss: 0.3472 - val_acc: 0.9073\n",
            "Epoch 17/20\n",
            "60000/60000 [==============================] - 1s 18us/step - loss: 0.3641 - acc: 0.9002 - val_loss: 0.3436 - val_acc: 0.9079\n",
            "Epoch 18/20\n",
            "60000/60000 [==============================] - 1s 18us/step - loss: 0.3604 - acc: 0.9010 - val_loss: 0.3404 - val_acc: 0.9092\n",
            "Epoch 19/20\n",
            "60000/60000 [==============================] - 1s 18us/step - loss: 0.3570 - acc: 0.9020 - val_loss: 0.3373 - val_acc: 0.9091\n",
            "Epoch 20/20\n",
            "60000/60000 [==============================] - 1s 18us/step - loss: 0.3539 - acc: 0.9023 - val_loss: 0.3349 - val_acc: 0.9093\n",
            "test score: 0.3348786217033863\n",
            "test accuracy: 0.9093\n"
          ],
          "name": "stdout"
        }
      ]
    },
    {
      "metadata": {
        "id": "Wg9aiL2Ir_d0",
        "colab_type": "code",
        "colab": {}
      },
      "cell_type": "code",
      "source": [
        ""
      ],
      "execution_count": 0,
      "outputs": []
    }
  ]
}