{
  "nbformat": 4,
  "nbformat_minor": 0,
  "metadata": {
    "colab": {
      "name": "HW1-problem-2.ipynb",
      "version": "0.3.2",
      "provenance": []
    },
    "kernelspec": {
      "name": "python3",
      "display_name": "Python 3"
    }
  },
  "cells": [
    {
      "metadata": {
        "id": "sANgzODTerDO",
        "colab_type": "code",
        "colab": {}
      },
      "cell_type": "code",
      "source": [
        "import keras\n",
        "from keras.datasets import mnist\n",
        "import numpy as np"
      ],
      "execution_count": 0,
      "outputs": []
    },
    {
      "metadata": {
        "id": "tCQYplijfPA2",
        "colab_type": "code",
        "colab": {}
      },
      "cell_type": "code",
      "source": [
        "learn_rate = 0.005\n",
        "batch_size = 100\n",
        "epoch = 40"
      ],
      "execution_count": 0,
      "outputs": []
    },
    {
      "metadata": {
        "id": "UU1oVcDsfViF",
        "colab_type": "code",
        "colab": {}
      },
      "cell_type": "code",
      "source": [
        "(x_train, y_train),(x_test,y_test) = mnist.load_data()"
      ],
      "execution_count": 0,
      "outputs": []
    },
    {
      "metadata": {
        "id": "LX46n6ipfm5F",
        "colab_type": "code",
        "colab": {}
      },
      "cell_type": "code",
      "source": [
        "x_train = x_train.reshape(x_train.shape[0], 28*28)\n",
        "y_train = keras.utils.to_categorical(y_train, 10)"
      ],
      "execution_count": 0,
      "outputs": []
    },
    {
      "metadata": {
        "id": "9Ax1IKNafytI",
        "colab_type": "code",
        "colab": {}
      },
      "cell_type": "code",
      "source": [
        "x_test = x_test.reshape(x_test.shape[0],28*28)\n",
        "y_t = y_test\n",
        "y_test = keras.utils.to_categorical(y_test,10)"
      ],
      "execution_count": 0,
      "outputs": []
    },
    {
      "metadata": {
        "id": "K-9cny4Hf37D",
        "colab_type": "code",
        "colab": {}
      },
      "cell_type": "code",
      "source": [
        "x_train = x_train.astype('float32')\n",
        "x_test = x_test.astype('float32')\n",
        "x_train = x_train / 255\n",
        "x_test = x_test / 255"
      ],
      "execution_count": 0,
      "outputs": []
    },
    {
      "metadata": {
        "id": "vjfownikf-OG",
        "colab_type": "code",
        "colab": {}
      },
      "cell_type": "code",
      "source": [
        "def initialize_params():\n",
        "#   np.random.seed(1)\n",
        "  w = np.random.randn(10,784)*0.01\n",
        "  b = np.random.randn(10,1)\n",
        "  return w,b"
      ],
      "execution_count": 0,
      "outputs": []
    },
    {
      "metadata": {
        "id": "w8R2wAergCEL",
        "colab_type": "code",
        "colab": {}
      },
      "cell_type": "code",
      "source": [
        "def forward_prop(w,b,x):\n",
        "  op = np.dot(w,np.transpose(x)) + b\n",
        "  return sigmoid(op)"
      ],
      "execution_count": 0,
      "outputs": []
    },
    {
      "metadata": {
        "id": "ohuXT_ESgJDe",
        "colab_type": "code",
        "colab": {}
      },
      "cell_type": "code",
      "source": [
        "def sigmoid(x):\n",
        "  return 1/(1+np.exp(-x))"
      ],
      "execution_count": 0,
      "outputs": []
    },
    {
      "metadata": {
        "id": "_jmAMYdkgLzV",
        "colab_type": "code",
        "colab": {}
      },
      "cell_type": "code",
      "source": [
        "def loss_func(y_train,op):\n",
        "  return np.sum(np.multiply(np.transpose(y_train), np.log(op)) + np.multiply(np.transpose(y_train), np.log(op)), axis = 1, keepdims = True)/batch_size"
      ],
      "execution_count": 0,
      "outputs": []
    },
    {
      "metadata": {
        "id": "4ZQ9MfoUhL4i",
        "colab_type": "code",
        "colab": {}
      },
      "cell_type": "code",
      "source": [
        "def backward_prop(x_train, y_train, op, w, b, learn_rate, batch_size):\n",
        "  d_loss = op - np.transpose(y_train)\n",
        "  d_z = d_loss\n",
        "  d_w = np.dot(d_z, x_train)\n",
        "  d_b = np.sum(d_z, axis = 1, keepdims = True)\n",
        "  w = w - learn_rate * d_w\n",
        "  b = b - learn_rate * d_b\n",
        "  return w,b"
      ],
      "execution_count": 0,
      "outputs": []
    },
    {
      "metadata": {
        "id": "Zd-wUFQmhmQ6",
        "colab_type": "code",
        "colab": {
          "base_uri": "https://localhost:8080/",
          "height": 2057
        },
        "outputId": "36140ed7-83da-489a-bd66-d6e7a41fdf0e"
      },
      "cell_type": "code",
      "source": [
        "\n",
        "w,b = initialize_params()\n",
        "for k in range(epoch):\n",
        "  for i in range(0, x_train.shape[0], batch_size):\n",
        "    op = forward_prop(w, b, x_train[i : i + batch_size])\n",
        "    w,b = backward_prop(x_train[i : i + batch_size], y_train[i : i + batch_size], op, w, b, learn_rate, batch_size)\n",
        "  output = forward_prop(w, b, x_test)\n",
        "  output = np.transpose(output)\n",
        "  output_list = list()\n",
        "  for j in range(10000):\n",
        "    output_list.append(np.argmax(output[j]))\n",
        "  count = 0\n",
        "  for m in range(10000):\n",
        "    if output_list[m] == y_t[m]:\n",
        "      count += 1\n",
        "  output_list = []\n",
        "  accuracy = count/100\n",
        "  print('epoch: ', k)\n",
        "  print(count, '/10000')\n",
        "  print('accuracy: ', accuracy)"
      ],
      "execution_count": 35,
      "outputs": [
        {
          "output_type": "stream",
          "text": [
            "epoch:  0\n",
            "9022 /10000\n",
            "accuracy:  90.22\n",
            "epoch:  1\n",
            "9072 /10000\n",
            "accuracy:  90.72\n",
            "epoch:  2\n",
            "9089 /10000\n",
            "accuracy:  90.89\n",
            "epoch:  3\n",
            "9094 /10000\n",
            "accuracy:  90.94\n",
            "epoch:  4\n",
            "9096 /10000\n",
            "accuracy:  90.96\n",
            "epoch:  5\n",
            "9095 /10000\n",
            "accuracy:  90.95\n",
            "epoch:  6\n",
            "9103 /10000\n",
            "accuracy:  91.03\n",
            "epoch:  7\n",
            "9108 /10000\n",
            "accuracy:  91.08\n",
            "epoch:  8\n",
            "9109 /10000\n",
            "accuracy:  91.09\n",
            "epoch:  9\n",
            "9112 /10000\n",
            "accuracy:  91.12\n",
            "epoch:  10\n",
            "9115 /10000\n",
            "accuracy:  91.15\n",
            "epoch:  11\n",
            "9115 /10000\n",
            "accuracy:  91.15\n",
            "epoch:  12\n",
            "9120 /10000\n",
            "accuracy:  91.2\n",
            "epoch:  13\n",
            "9128 /10000\n",
            "accuracy:  91.28\n",
            "epoch:  14\n",
            "9128 /10000\n",
            "accuracy:  91.28\n",
            "epoch:  15\n",
            "9127 /10000\n",
            "accuracy:  91.27\n",
            "epoch:  16\n",
            "9126 /10000\n",
            "accuracy:  91.26\n",
            "epoch:  17\n",
            "9131 /10000\n",
            "accuracy:  91.31\n",
            "epoch:  18\n",
            "9133 /10000\n",
            "accuracy:  91.33\n",
            "epoch:  19\n",
            "9135 /10000\n",
            "accuracy:  91.35\n",
            "epoch:  20\n",
            "9134 /10000\n",
            "accuracy:  91.34\n",
            "epoch:  21\n",
            "9135 /10000\n",
            "accuracy:  91.35\n",
            "epoch:  22\n",
            "9135 /10000\n",
            "accuracy:  91.35\n",
            "epoch:  23\n",
            "9137 /10000\n",
            "accuracy:  91.37\n",
            "epoch:  24\n",
            "9137 /10000\n",
            "accuracy:  91.37\n",
            "epoch:  25\n",
            "9137 /10000\n",
            "accuracy:  91.37\n",
            "epoch:  26\n",
            "9137 /10000\n",
            "accuracy:  91.37\n",
            "epoch:  27\n",
            "9138 /10000\n",
            "accuracy:  91.38\n",
            "epoch:  28\n",
            "9135 /10000\n",
            "accuracy:  91.35\n",
            "epoch:  29\n",
            "9136 /10000\n",
            "accuracy:  91.36\n",
            "epoch:  30\n",
            "9138 /10000\n",
            "accuracy:  91.38\n",
            "epoch:  31\n",
            "9140 /10000\n",
            "accuracy:  91.4\n",
            "epoch:  32\n",
            "9139 /10000\n",
            "accuracy:  91.39\n",
            "epoch:  33\n",
            "9138 /10000\n",
            "accuracy:  91.38\n",
            "epoch:  34\n",
            "9138 /10000\n",
            "accuracy:  91.38\n",
            "epoch:  35\n",
            "9138 /10000\n",
            "accuracy:  91.38\n",
            "epoch:  36\n",
            "9138 /10000\n",
            "accuracy:  91.38\n",
            "epoch:  37\n",
            "9139 /10000\n",
            "accuracy:  91.39\n",
            "epoch:  38\n",
            "9140 /10000\n",
            "accuracy:  91.4\n",
            "epoch:  39\n",
            "9140 /10000\n",
            "accuracy:  91.4\n"
          ],
          "name": "stdout"
        }
      ]
    },
    {
      "metadata": {
        "id": "RDeA2PA4h1iP",
        "colab_type": "code",
        "colab": {}
      },
      "cell_type": "code",
      "source": [
        ""
      ],
      "execution_count": 0,
      "outputs": []
    }
  ]
}