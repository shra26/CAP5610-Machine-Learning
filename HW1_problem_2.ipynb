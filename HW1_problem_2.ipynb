{
  "nbformat": 4,
  "nbformat_minor": 0,
  "metadata": {
    "colab": {
      "name": "HW1-problem-2.ipynb",
      "version": "0.3.2",
      "provenance": [],
      "collapsed_sections": []
    },
    "kernelspec": {
      "name": "python3",
      "display_name": "Python 3"
    }
  },
  "cells": [
    {
      "metadata": {
        "id": "sANgzODTerDO",
        "colab_type": "code",
        "colab": {}
      },
      "cell_type": "code",
      "source": [
        "import keras\n",
        "from keras.datasets import mnist\n",
        "import numpy as np\n",
        "import matplotlib.pyplot as plt"
      ],
      "execution_count": 0,
      "outputs": []
    },
    {
      "metadata": {
        "id": "tCQYplijfPA2",
        "colab_type": "code",
        "colab": {}
      },
      "cell_type": "code",
      "source": [
        "learn_rate = 0.005 # learning rate on backward propagation\n",
        "batch_size = 100 # batch size \n",
        "epoch = 25 # number of re-runs of each batch \n"
      ],
      "execution_count": 0,
      "outputs": []
    },
    {
      "metadata": {
        "id": "UU1oVcDsfViF",
        "colab_type": "code",
        "colab": {}
      },
      "cell_type": "code",
      "source": [
        "(x_train, y_train),(x_test,y_test) = mnist.load_data() # load MNIST dataset into training and test sets."
      ],
      "execution_count": 0,
      "outputs": []
    },
    {
      "metadata": {
        "id": "LX46n6ipfm5F",
        "colab_type": "code",
        "colab": {}
      },
      "cell_type": "code",
      "source": [
        "x_train = x_train.reshape(x_train.shape[0], 28*28) # data reshape before normalization\n",
        "y_train = keras.utils.to_categorical(y_train, 10) # convert to categorical data instead of numerical data"
      ],
      "execution_count": 0,
      "outputs": []
    },
    {
      "metadata": {
        "id": "9Ax1IKNafytI",
        "colab_type": "code",
        "colab": {}
      },
      "cell_type": "code",
      "source": [
        "x_test = x_test.reshape(x_test.shape[0],28*28) # data reshape before normalization\n",
        "temp = y_test # saving original y values for final check\n",
        "y_test = keras.utils.to_categorical(y_test,10) # convert to categorical data instead of numerical data"
      ],
      "execution_count": 0,
      "outputs": []
    },
    {
      "metadata": {
        "id": "K-9cny4Hf37D",
        "colab_type": "code",
        "colab": {}
      },
      "cell_type": "code",
      "source": [
        "x_train = x_train.astype('float32') # Define as float32 type\n",
        "x_test = x_test.astype('float32') # Define as float32 type\n",
        "x_train = x_train / 255 # normalization\n",
        "x_test = x_test / 255 # normalization"
      ],
      "execution_count": 0,
      "outputs": []
    },
    {
      "metadata": {
        "id": "w8R2wAergCEL",
        "colab_type": "code",
        "colab": {}
      },
      "cell_type": "code",
      "source": [
        "# logistic regression function step 1\n",
        "def forward_prop(w,b,x):\n",
        "  op = np.dot(w,np.transpose(x)) + b\n",
        "  return sigmoid(op)"
      ],
      "execution_count": 0,
      "outputs": []
    },
    {
      "metadata": {
        "id": "ohuXT_ESgJDe",
        "colab_type": "code",
        "colab": {}
      },
      "cell_type": "code",
      "source": [
        "# logistic regression function step 2\n",
        "def sigmoid(x):\n",
        "  return 1/(1+np.exp(-x))"
      ],
      "execution_count": 0,
      "outputs": []
    },
    {
      "metadata": {
        "id": "_jmAMYdkgLzV",
        "colab_type": "code",
        "colab": {}
      },
      "cell_type": "code",
      "source": [
        "# binary-cross entropy function\n",
        "def loss_func(y_train,op):\n",
        "  return np.sum(np.multiply(np.transpose(y_train), np.log(op)) + np.multiply(np.transpose(y_train), np.log(op)), axis = 1, keepdims = True)/batch_size"
      ],
      "execution_count": 0,
      "outputs": []
    },
    {
      "metadata": {
        "id": "4ZQ9MfoUhL4i",
        "colab_type": "code",
        "colab": {}
      },
      "cell_type": "code",
      "source": [
        "# Backward Progation based on set learning rate to calculate better weights and bias values\n",
        "def backward_prop(x_train, y_train, op, w, b, learn_rate):\n",
        "  d_loss = op - np.transpose(y_train)\n",
        "  d_z = d_loss\n",
        "  d_w = np.dot(d_z, x_train)\n",
        "  d_b = np.sum(d_z, axis = 1, keepdims = True)\n",
        "  w = w - learn_rate * d_w\n",
        "  b = b - learn_rate * d_b\n",
        "  return w,b"
      ],
      "execution_count": 0,
      "outputs": []
    },
    {
      "metadata": {
        "id": "Zd-wUFQmhmQ6",
        "colab_type": "code",
        "outputId": "db4183c8-4fdb-4d6c-d16e-a13ae8e8a97d",
        "colab": {
          "base_uri": "https://localhost:8080/",
          "height": 1381
        }
      },
      "cell_type": "code",
      "source": [
        "# initialization of random weights and bias values.\n",
        "np.random.seed(1) # same seed for random functions used so keep the the pseudo random numbers similar. \n",
        "w = np.random.randn(10,784)*0.01\n",
        "b = np.random.randn(10,1)\n",
        "arr = []\n",
        "for k in range(epoch):\n",
        "  for i in range(0, x_train.shape[0], batch_size):\n",
        "    op = forward_prop(w, b, x_train[i : i + batch_size]) # Training model with logistic regression\n",
        "    w,b = backward_prop(x_train[i : i + batch_size], y_train[i : i + batch_size], op, w, b, learn_rate)\n",
        "  output = forward_prop(w, b, x_test)\n",
        "  output = np.transpose(output)\n",
        "  output_list = list()\n",
        "  for j in range(10000):\n",
        "    output_list.append(np.argmax(output[j]))\n",
        "  counter = 0\n",
        "  for m in range(10000):\n",
        "    if output_list[m] == temp[m]:\n",
        "      counter += 1\n",
        "  output_list = []\n",
        "  print('epoch: ', k)\n",
        "  print(counter, '/10000')\n",
        "  print('accuracy: ', counter/100)\n",
        "  arr.append(counter/100)"
      ],
      "execution_count": 23,
      "outputs": [
        {
          "output_type": "stream",
          "text": [
            "epoch:  0\n",
            "9024 /10000\n",
            "accuracy:  90.24\n",
            "epoch:  1\n",
            "9066 /10000\n",
            "accuracy:  90.66\n",
            "epoch:  2\n",
            "9093 /10000\n",
            "accuracy:  90.93\n",
            "epoch:  3\n",
            "9101 /10000\n",
            "accuracy:  91.01\n",
            "epoch:  4\n",
            "9098 /10000\n",
            "accuracy:  90.98\n",
            "epoch:  5\n",
            "9100 /10000\n",
            "accuracy:  91.0\n",
            "epoch:  6\n",
            "9097 /10000\n",
            "accuracy:  90.97\n",
            "epoch:  7\n",
            "9102 /10000\n",
            "accuracy:  91.02\n",
            "epoch:  8\n",
            "9108 /10000\n",
            "accuracy:  91.08\n",
            "epoch:  9\n",
            "9114 /10000\n",
            "accuracy:  91.14\n",
            "epoch:  10\n",
            "9118 /10000\n",
            "accuracy:  91.18\n",
            "epoch:  11\n",
            "9117 /10000\n",
            "accuracy:  91.17\n",
            "epoch:  12\n",
            "9123 /10000\n",
            "accuracy:  91.23\n",
            "epoch:  13\n",
            "9129 /10000\n",
            "accuracy:  91.29\n",
            "epoch:  14\n",
            "9128 /10000\n",
            "accuracy:  91.28\n",
            "epoch:  15\n",
            "9130 /10000\n",
            "accuracy:  91.3\n",
            "epoch:  16\n",
            "9129 /10000\n",
            "accuracy:  91.29\n",
            "epoch:  17\n",
            "9134 /10000\n",
            "accuracy:  91.34\n",
            "epoch:  18\n",
            "9133 /10000\n",
            "accuracy:  91.33\n",
            "epoch:  19\n",
            "9133 /10000\n",
            "accuracy:  91.33\n",
            "epoch:  20\n",
            "9134 /10000\n",
            "accuracy:  91.34\n",
            "epoch:  21\n",
            "9135 /10000\n",
            "accuracy:  91.35\n",
            "epoch:  22\n",
            "9137 /10000\n",
            "accuracy:  91.37\n",
            "epoch:  23\n",
            "9137 /10000\n",
            "accuracy:  91.37\n",
            "epoch:  24\n",
            "9136 /10000\n",
            "accuracy:  91.36\n"
          ],
          "name": "stdout"
        }
      ]
    },
    {
      "metadata": {
        "id": "RDeA2PA4h1iP",
        "colab_type": "code",
        "colab": {
          "base_uri": "https://localhost:8080/",
          "height": 361
        },
        "outputId": "232ff0d8-cc0b-4f87-94ea-3abb2276ae66"
      },
      "cell_type": "code",
      "source": [
        "# Plotting the graph to visualize increase in accuracy of the model over the epochs\n",
        "plt.plot(arr, label = 'Accuracy')\n",
        "plt.xlabel('No. of Epochs')\n",
        "plt.ylabel('Accuracy')\n",
        "plt.legend()\n",
        "plt.show()"
      ],
      "execution_count": 24,
      "outputs": [
        {
          "output_type": "display_data",
          "data": {
            "image/png": "[encoded data removed]",
            "text/plain": [
              "<Figure size 576x396 with 1 Axes>"
            ]
          },
          "metadata": {
            "tags": []
          }
        }
      ]
    }
  ]
}