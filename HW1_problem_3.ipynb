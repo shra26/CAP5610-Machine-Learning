{
  "nbformat": 4,
  "nbformat_minor": 0,
  "metadata": {
    "colab": {
      "name": "HW1-problem-3.ipynb",
      "version": "0.3.2",
      "provenance": [],
      "collapsed_sections": []
    },
    "kernelspec": {
      "name": "python3",
      "display_name": "Python 3"
    }
  },
  "cells": [
    {
      "metadata": {
        "id": "-Bqt1u81tBM1",
        "colab_type": "code",
        "colab": {}
      },
      "cell_type": "code",
      "source": [
        "import keras\n",
        "from keras.datasets import mnist\n",
        "from keras import backend\n",
        "import numpy as np"
      ],
      "execution_count": 0,
      "outputs": []
    },
    {
      "metadata": {
        "id": "WJq4d_33tuBQ",
        "colab_type": "code",
        "colab": {}
      },
      "cell_type": "code",
      "source": [
        "learn_rate = 0.005\n",
        "batch_size = 40\n",
        "epoch = 15"
      ],
      "execution_count": 0,
      "outputs": []
    },
    {
      "metadata": {
        "id": "enZwWkUfueov",
        "colab_type": "code",
        "colab": {}
      },
      "cell_type": "code",
      "source": [
        "(x_train, y_train), (x_test, y_test) = mnist.load_data()"
      ],
      "execution_count": 0,
      "outputs": []
    },
    {
      "metadata": {
        "id": "FXNOwBdou5ht",
        "colab_type": "code",
        "colab": {}
      },
      "cell_type": "code",
      "source": [
        "x_train = x_train.reshape(x_train.shape[0], 28*28)\n",
        "y_train = keras.utils.to_categorical(y_train, 10)"
      ],
      "execution_count": 0,
      "outputs": []
    },
    {
      "metadata": {
        "id": "ZBF7UmWHu7ET",
        "colab_type": "code",
        "colab": {}
      },
      "cell_type": "code",
      "source": [
        "\n",
        "x_test = x_test.reshape(x_test.shape[0],28*28)\n",
        "y_t = y_test\n",
        "y_test = keras.utils.to_categorical(y_test,10)"
      ],
      "execution_count": 0,
      "outputs": []
    },
    {
      "metadata": {
        "id": "15D-JJjPvKsY",
        "colab_type": "code",
        "colab": {}
      },
      "cell_type": "code",
      "source": [
        "x_train = x_train.astype('float32')\n",
        "x_test = x_test.astype('float32')\n",
        "x_train = x_train / 255\n",
        "x_test = x_test / 255"
      ],
      "execution_count": 0,
      "outputs": []
    },
    {
      "metadata": {
        "id": "wF8pIPunvN-L",
        "colab_type": "code",
        "colab": {}
      },
      "cell_type": "code",
      "source": [
        "x_train = x_train.reshape(x_train.shape[0], -1).T\n",
        "x_test = x_test.reshape(x_test.shape[0], -1).T\n",
        "y_train = y_train.T\n",
        "y_test = y_test.T"
      ],
      "execution_count": 0,
      "outputs": []
    },
    {
      "metadata": {
        "id": "3_vtlg4svmIs",
        "colab_type": "code",
        "colab": {}
      },
      "cell_type": "code",
      "source": [
        "def sigmoid(x):\n",
        "  return 1/(1+np.exp(-x))"
      ],
      "execution_count": 0,
      "outputs": []
    },
    {
      "metadata": {
        "id": "BShuA_VYwcRQ",
        "colab_type": "code",
        "colab": {}
      },
      "cell_type": "code",
      "source": [
        "def sigmoid_p(x):\n",
        "  return sigmoid(x)*(1-sigmoid(x))"
      ],
      "execution_count": 0,
      "outputs": []
    },
    {
      "metadata": {
        "id": "qjnsKhBRwp_Q",
        "colab_type": "code",
        "colab": {}
      },
      "cell_type": "code",
      "source": [
        "def cross_entropy(y, y_cap):\n",
        "  return - np.mean(y * np.log(y_cap))"
      ],
      "execution_count": 0,
      "outputs": []
    },
    {
      "metadata": {
        "id": "DT_S0Rnqw5KL",
        "colab_type": "code",
        "colab": {}
      },
      "cell_type": "code",
      "source": [
        "def mini_batch(x, y, batch_size):\n",
        "  for i in range(0, x.shape[0] - batch_size + 1, batch_size):\n",
        "    h = slice(i, i + batch_size)\n",
        "    yield x[h], y[h]"
      ],
      "execution_count": 0,
      "outputs": []
    },
    {
      "metadata": {
        "id": "-ybQpmD511RO",
        "colab_type": "code",
        "colab": {}
      },
      "cell_type": "code",
      "source": [
        "def softmax(x):\n",
        "  x = x - np.max(x)\n",
        "  return np.exp(x) / np.sum(np.exp(x), axis = 0) "
      ],
      "execution_count": 0,
      "outputs": []
    },
    {
      "metadata": {
        "id": "JXqssgmy2Ief",
        "colab_type": "code",
        "colab": {}
      },
      "cell_type": "code",
      "source": [
        "def forward_prop(w,b,x):\n",
        "  op = np.dot(w,np.transpose(x)) + b\n",
        "  return sigmoid(op)"
      ],
      "execution_count": 0,
      "outputs": []
    },
    {
      "metadata": {
        "id": "pDiuobpk4ny5",
        "colab_type": "code",
        "colab": {}
      },
      "cell_type": "code",
      "source": [
        "def train(x_train, y_train, x_test, y_test, epochs, learn_rate):\n",
        "  neuron_x = x_train.shape[0]\n",
        "  neuron_h = 64\n",
        "  neuron_y = y_train.shape[0]\n",
        "  \n",
        "  w1= np.random.randn(neuron_h, neuron_x) * 0.01\n",
        "  b1 = np.zeros(shape = (neuron_h, 1))\n",
        "  w2 = np.random.randn(neuron_y, neuron_h) * 0.01\n",
        "  b2 = np.zeros(shape = (neuron_y, 1))\n",
        "  \n",
        "  for k in range(epoch):\n",
        "    for i in mini_batch(x_train.T, y_train.T, batch_size):\n",
        "      x, y = i\n",
        "      x = x.T\n",
        "      y = y.T\n",
        "      m = x.shape[0]\n",
        "      \n",
        "      z1 = np.dot(w1, x) + b1\n",
        "      a1 = sigmoid(z1)\n",
        "      z2 = np.dot(w2, a1) + b2\n",
        "      a2 = softmax(z2)\n",
        "      cost = cross_entropy(y, a2)\n",
        "      dz2 = a2 - y\n",
        "      dw2 = (1/m) * np.matmul(dz2, a1.T)\n",
        "      db2 = (1/m) * np.sum(dz2, axis = 1, keepdims = True)\n",
        "      da1 = np.dot(w2.T, dz2)\n",
        "      dz1 = da1 * sigmoid_p(z1)\n",
        "      dw1 = (1/m) * np.dot(dz1, x.T)\n",
        "      db1 = (1/m) * np.sum(dz1, axis = 1, keepdims = True)\n",
        "      \n",
        "      w2 = w2 - learn_rate * dw2\n",
        "      b2 = b2 - learn_rate * db2\n",
        "      w1 = w1 - learn_rate * dw1\n",
        "      b1 = b1 - learn_rate * db1\n",
        "    print('Epoch: ', k)\n",
        "    print('cost: ', cost)\n",
        "    \n",
        "  z1 = np.dot(w1, x_train) + b1\n",
        "  a1 = sigmoid(z1)\n",
        "  z2 = np.dot(w2, a1) + b2\n",
        "  a2 = softmax(z2)\n",
        "  \n",
        "  z3 = np.dot(w1, x_test) + b1\n",
        "  a3 = sigmoid(z3)\n",
        "  z4 = np.dot(w2,a3) + b2\n",
        "  a4 = softmax(z4)\n",
        "  \n",
        "  a4 = a4.T\n",
        "  a2 = a2.T\n",
        "  y_train = y_train.T\n",
        "  y_test = y_test.T\n",
        "  \n",
        "  y_train_pred = np.zeros_like(y_train)\n",
        "  y_train_pred[np.arange(len(a2)), a2.argmax(1)] = 1\n",
        "  \n",
        "  y_test_pred = np.zeros_like(y_test)\n",
        "  y_test_pred[np.arange(len(a4)), a4.argmax(1)] = 1\n",
        "  \n",
        "  print('training accuracy: {}%'.format(100 - np.mean(np.abs(y_train_pred - y_train)) * 100))\n",
        "  print('train accuracy: {}%'.format(100 - np.mean(np.abs(y_test_pred - y_test)) * 100))\n",
        "  \n",
        "  d = {\n",
        "        'cost': cost,\n",
        "        'Y_test_prediction': a4,\n",
        "        'y_test_pred': a2\n",
        "      }\n",
        "  return d"
      ],
      "execution_count": 0,
      "outputs": []
    },
    {
      "metadata": {
        "id": "2g6KCXZxDe4z",
        "colab_type": "code",
        "colab": {
          "base_uri": "https://localhost:8080/",
          "height": 561
        },
        "outputId": "12dcf2cb-8251-44f3-c084-79cdfe805922"
      },
      "cell_type": "code",
      "source": [
        "classifier = train(x_train, y_train, x_test, y_test, 12, 0.1)"
      ],
      "execution_count": 42,
      "outputs": [
        {
          "output_type": "stream",
          "text": [
            "Epoch:  0\n",
            "cost:  0.22986920765006083\n",
            "Epoch:  1\n",
            "cost:  0.22614659463552328\n",
            "Epoch:  2\n",
            "cost:  0.2102585839612373\n",
            "Epoch:  3\n",
            "cost:  0.17538583382750084\n",
            "Epoch:  4\n",
            "cost:  0.13721420318377342\n",
            "Epoch:  5\n",
            "cost:  0.10932592855305284\n",
            "Epoch:  6\n",
            "cost:  0.08960575082539725\n",
            "Epoch:  7\n",
            "cost:  0.07493444175776594\n",
            "Epoch:  8\n",
            "cost:  0.06388916808901333\n",
            "Epoch:  9\n",
            "cost:  0.05553582872024876\n",
            "Epoch:  10\n",
            "cost:  0.049132719537117675\n",
            "Epoch:  11\n",
            "cost:  0.044127865082804994\n",
            "Epoch:  12\n",
            "cost:  0.04013338404105651\n",
            "Epoch:  13\n",
            "cost:  0.03688059084113738\n",
            "Epoch:  14\n",
            "cost:  0.034181437197722604\n",
            "training accuracy: 97.52766657620668%\n",
            "train accuracy: 97.60800004005432%\n"
          ],
          "name": "stdout"
        }
      ]
    },
    {
      "metadata": {
        "id": "YDtKh1qxDqV0",
        "colab_type": "code",
        "colab": {}
      },
      "cell_type": "code",
      "source": [
        ""
      ],
      "execution_count": 0,
      "outputs": []
    }
  ]
}