{
  "nbformat": 4,
  "nbformat_minor": 0,
  "metadata": {
    "colab": {
      "name": "HW1-problem-5.ipynb",
      "version": "0.3.2",
      "provenance": [],
      "collapsed_sections": []
    },
    "kernelspec": {
      "name": "python3",
      "display_name": "Python 3"
    }
  },
  "cells": [
    {
      "metadata": {
        "id": "1WwyLOBX0RWf",
        "colab_type": "code",
        "colab": {
          "base_uri": "https://localhost:8080/",
          "height": 34
        },
        "outputId": "ef946305-59d0-40d0-bcf8-3e98041543a4"
      },
      "cell_type": "code",
      "source": [
        "import keras\n",
        "from keras.datasets import mnist\n",
        "import matplotlib.pyplot as plt\n",
        "import numpy as np\n",
        "import scipy\n",
        "import cv2\n",
        "from skimage import util"
      ],
      "execution_count": 1,
      "outputs": [
        {
          "output_type": "stream",
          "text": [
            "Using TensorFlow backend.\n"
          ],
          "name": "stderr"
        }
      ]
    },
    {
      "metadata": {
        "id": "88yIBP3Cmpzq",
        "colab_type": "code",
        "colab": {}
      },
      "cell_type": "code",
      "source": [
        "batch_size = 128\n",
        "epochs = 30"
      ],
      "execution_count": 0,
      "outputs": []
    },
    {
      "metadata": {
        "id": "yyXUA2p03D60",
        "colab_type": "code",
        "colab": {}
      },
      "cell_type": "code",
      "source": [
        "(x_train, y_train), (x_test, y_test) = mnist.load_data() # load MNIST dataset into training and test sets."
      ],
      "execution_count": 0,
      "outputs": []
    },
    {
      "metadata": {
        "id": "n2T58a33WxQ2",
        "colab_type": "text"
      },
      "cell_type": "markdown",
      "source": [
        "Using cv2 library for faster processing of greyscale images into B/W images."
      ]
    },
    {
      "metadata": {
        "id": "7z_L9Qt2XEBP",
        "colab_type": "code",
        "colab": {}
      },
      "cell_type": "code",
      "source": [
        "th = 127\n",
        "for i in range(60000):\n",
        "  x_train[i] = cv2.threshold(x_train[i], th, 255,  cv2.THRESH_BINARY)[1]\n",
        "for i in range(10000):\n",
        "  x_test[i] = cv2.threshold(x_test[i], th, 255, cv2.THRESH_BINARY)[1]  "
      ],
      "execution_count": 0,
      "outputs": []
    },
    {
      "metadata": {
        "id": "OqZcujL0XE42",
        "colab_type": "text"
      },
      "cell_type": "markdown",
      "source": [
        "Code to do the same as cv2 library's optimized threshold function "
      ]
    },
    {
      "metadata": {
        "id": "eTXlaREd3hW4",
        "colab_type": "code",
        "colab": {}
      },
      "cell_type": "code",
      "source": [
        "# def converter(arr):\n",
        "#   th = 127  #256 RGB variations possible, so half of it will be taken as threshold for white/black\n",
        "#   for i in range(len(arr)):\n",
        "#     for j in range(len(arr)):\n",
        "#       if arr[i][j] > th:\n",
        "#         arr[i][j] = 255\n",
        "#       else:\n",
        "#         arr[i][j] = 0\n",
        "#   return arr\n",
        "\n",
        "\n",
        "# for i in range(60000):\n",
        "#   x_train[i] = converter(x_train[i])\n",
        "# for i in range(10000):\n",
        "#   x_test[i] = converter(x_test[i])"
      ],
      "execution_count": 0,
      "outputs": []
    },
    {
      "metadata": {
        "id": "Rjl1YdCe4LYN",
        "colab_type": "code",
        "colab": {}
      },
      "cell_type": "code",
      "source": [
        "x_train = x_train / 255 # normalization\n",
        "x_test = x_test / 255 # normalization"
      ],
      "execution_count": 0,
      "outputs": []
    },
    {
      "metadata": {
        "id": "lIXsjs5MYmTG",
        "colab_type": "code",
        "colab": {}
      },
      "cell_type": "code",
      "source": [
        "cc_train = np.zeros_like(y_train)\n",
        "cc_test = np.zeros_like(y_test)"
      ],
      "execution_count": 0,
      "outputs": []
    },
    {
      "metadata": {
        "id": "wlWzhhJ1ZmEn",
        "colab_type": "code",
        "colab": {}
      },
      "cell_type": "code",
      "source": [
        "for i in range(60000):\n",
        "  l, n = scipy.ndimage.label(util.invert(x_train[i]))\n",
        "  cc_train[i] = n\n",
        "for i in range(10000):\n",
        "  l, n = scipy.ndimage.label(util.invert(y_test[i]))\n",
        "  cc_test[i] = n"
      ],
      "execution_count": 0,
      "outputs": []
    },
    {
      "metadata": {
        "id": "HLk8qW0ddzcW",
        "colab_type": "text"
      },
      "cell_type": "markdown",
      "source": [
        "Depth First Search algorithmn for finding out the number of regions created in the 28 *28 pixel map."
      ]
    },
    {
      "metadata": {
        "id": "NbMzySH4adRu",
        "colab_type": "code",
        "colab": {}
      },
      "cell_type": "code",
      "source": [
        "# class cc:\n",
        "#   def __init__(self, row, col, g):\n",
        "#     self.COL = col\n",
        "#     self.ROW = row\n",
        "#     self.GRAPH = g\n",
        "  \n",
        "#   def isSafe(self, i, j, v):\n",
        "#     return (i >=0 and i < self.ROW and j>= 0 and j < self.COL and not v[i][j] adnd self.GRAPH[i][j])\n",
        "  \n",
        "#   def depthFirstSearch(self, i, j, v):\n",
        "#     row = [-1, -1, -1, 0, 0, 1, 1, 1]\n",
        "#     col = [-1, 0, 1, -1, 1, -1, 0, 1]\n",
        "#     v[i][j] = True\n",
        "#     for n in range(8):\n",
        "#       if self.isSafe(i + row[n], j, col[n], v)\n",
        "  \n",
        "#   def counter(self):\n",
        "#     v = [[False for j in range(self.COL)] for i in range(self.ROW)]\n",
        "#     count = 0\n",
        "#     for i in range(self.ROW):\n",
        "#       for j in range(self.COL):\n",
        "#         if v[i][j] == False and self.GRAPH[i][j] == 1:\n",
        "#           self.depthFirstSearch(i, j, v)\n",
        "#           count += 1\n",
        "#     return count\n",
        "  \n",
        "# cc_list = []\n",
        "# for i in x_train:\n",
        "#   row = len(i)\n",
        "#   col = len(i[0])\n",
        "#   graph = cc(row, col, a)\n",
        "#   cc_list.append(graph.counter())\n",
        "\n",
        "# print(cc_list)"
      ],
      "execution_count": 0,
      "outputs": []
    },
    {
      "metadata": {
        "id": "KSpJhP7VeXoz",
        "colab_type": "code",
        "colab": {}
      },
      "cell_type": "code",
      "source": [
        "(x_train, y_train), (x_test, y_test) = mnist.load_data() # load MNIST dataset into training and test sets."
      ],
      "execution_count": 0,
      "outputs": []
    },
    {
      "metadata": {
        "id": "IxV0cBzoebRY",
        "colab_type": "code",
        "colab": {}
      },
      "cell_type": "code",
      "source": [
        "x_train = x_train.reshape(60000, 28*28) # data reshape before normalization\n",
        "y_train = keras.utils.to_categorical(y_train, 10) # convert to categorical data instead of numerical data"
      ],
      "execution_count": 0,
      "outputs": []
    },
    {
      "metadata": {
        "id": "FgfXsFUBelkk",
        "colab_type": "code",
        "colab": {}
      },
      "cell_type": "code",
      "source": [
        "x_test = x_test.reshape(10000,28*28) # data reshape before normalization\n",
        "y_test = keras.utils.to_categorical(y_test,10) # convert to categorical data instead of numerical data"
      ],
      "execution_count": 0,
      "outputs": []
    },
    {
      "metadata": {
        "id": "n6Qs7UcvetQz",
        "colab_type": "code",
        "colab": {}
      },
      "cell_type": "code",
      "source": [
        "x_train = x_train.astype('float32') # Define as float32 type\n",
        "x_test= x_test.astype('float32') # Define as float32 type\n",
        "x_train /= 255 # normalization\n",
        "x_test /= 255 # normalization\n",
        "\n",
        "#normalize the cc_train and cc_test also // connected components\n",
        "cc_train = cc_train / 4\n",
        "cc_test = cc_test / 4"
      ],
      "execution_count": 0,
      "outputs": []
    },
    {
      "metadata": {
        "id": "YyWLNeVhfhpq",
        "colab_type": "code",
        "colab": {
          "base_uri": "https://localhost:8080/",
          "height": 1210
        },
        "outputId": "10ad72b3-2878-479a-f191-df5724c535a7"
      },
      "cell_type": "code",
      "source": [
        "in_shape = keras.layers.Input((784,))\n",
        "cc_feature = keras.layers.Input((1,)) # defining all parameters for a new layer\n",
        "in_vector = keras.layers.Dense(64, activation='sigmoid')(in_shape)\n",
        "nn = keras.layers.add([in_vector, cc_feature])\n",
        "nn = keras.layers.Dense(10, activation='softmax')(nn)\n",
        "nn = keras.models.Model(inputs = [in_shape, cc_feature], outputs = nn)\n",
        "nn.compile(optimizer = keras.optimizers.SGD(lr = 0.1), loss = 'categorical_crossentropy', metrics = ['accuracy'])\n",
        "train = nn.fit([x_train, cc_train], y_train, epochs= epochs, batch_size= batch_size,  validation_data = ([x_test, cc_test], y_test))\n",
        "metrics = nn.evaluate([x_test, cc_test],y_test, verbose =0)\n",
        "print('Loss: ', metrics[0])\n",
        "print('Accuracy: ', metrics[1]*100,'%')"
      ],
      "execution_count": 18,
      "outputs": [
        {
          "output_type": "stream",
          "text": [
            "WARNING:tensorflow:From /usr/local/lib/python3.6/dist-packages/tensorflow/python/framework/op_def_library.py:263: colocate_with (from tensorflow.python.framework.ops) is deprecated and will be removed in a future version.\n",
            "Instructions for updating:\n",
            "Colocations handled automatically by placer.\n",
            "WARNING:tensorflow:From /usr/local/lib/python3.6/dist-packages/tensorflow/python/ops/math_ops.py:3066: to_int32 (from tensorflow.python.ops.math_ops) is deprecated and will be removed in a future version.\n",
            "Instructions for updating:\n",
            "Use tf.cast instead.\n",
            "Train on 60000 samples, validate on 10000 samples\n",
            "Epoch 1/30\n",
            "60000/60000 [==============================] - 2s 31us/step - loss: 1.0021 - acc: 0.7819 - val_loss: 0.5726 - val_acc: 0.8567\n",
            "Epoch 2/30\n",
            "60000/60000 [==============================] - 1s 23us/step - loss: 0.4359 - acc: 0.8951 - val_loss: 0.4301 - val_acc: 0.8824\n",
            "Epoch 3/30\n",
            "60000/60000 [==============================] - 1s 23us/step - loss: 0.3488 - acc: 0.9090 - val_loss: 0.3776 - val_acc: 0.8917\n",
            "Epoch 4/30\n",
            "60000/60000 [==============================] - 1s 23us/step - loss: 0.3093 - acc: 0.9171 - val_loss: 0.3549 - val_acc: 0.8952\n",
            "Epoch 5/30\n",
            "60000/60000 [==============================] - 1s 22us/step - loss: 0.2849 - acc: 0.9220 - val_loss: 0.3426 - val_acc: 0.8990\n",
            "Epoch 6/30\n",
            "60000/60000 [==============================] - 1s 23us/step - loss: 0.2669 - acc: 0.9263 - val_loss: 0.3401 - val_acc: 0.8991\n",
            "Epoch 7/30\n",
            "60000/60000 [==============================] - 1s 23us/step - loss: 0.2533 - acc: 0.9299 - val_loss: 0.3220 - val_acc: 0.9042\n",
            "Epoch 8/30\n",
            "60000/60000 [==============================] - 1s 23us/step - loss: 0.2418 - acc: 0.9324 - val_loss: 0.3134 - val_acc: 0.9077\n",
            "Epoch 9/30\n",
            "60000/60000 [==============================] - 1s 23us/step - loss: 0.2318 - acc: 0.9355 - val_loss: 0.3147 - val_acc: 0.9030\n",
            "Epoch 10/30\n",
            "60000/60000 [==============================] - 1s 23us/step - loss: 0.2229 - acc: 0.9377 - val_loss: 0.3130 - val_acc: 0.9016\n",
            "Epoch 11/30\n",
            "60000/60000 [==============================] - 1s 23us/step - loss: 0.2151 - acc: 0.9398 - val_loss: 0.3038 - val_acc: 0.9063\n",
            "Epoch 12/30\n",
            "60000/60000 [==============================] - 1s 23us/step - loss: 0.2080 - acc: 0.9417 - val_loss: 0.2945 - val_acc: 0.9088\n",
            "Epoch 13/30\n",
            "60000/60000 [==============================] - 1s 23us/step - loss: 0.2013 - acc: 0.9434 - val_loss: 0.2891 - val_acc: 0.9091\n",
            "Epoch 14/30\n",
            "60000/60000 [==============================] - 1s 23us/step - loss: 0.1956 - acc: 0.9451 - val_loss: 0.2797 - val_acc: 0.9145\n",
            "Epoch 15/30\n",
            "60000/60000 [==============================] - 1s 23us/step - loss: 0.1897 - acc: 0.9469 - val_loss: 0.2827 - val_acc: 0.9121\n",
            "Epoch 16/30\n",
            "60000/60000 [==============================] - 1s 22us/step - loss: 0.1843 - acc: 0.9478 - val_loss: 0.2816 - val_acc: 0.9114\n",
            "Epoch 17/30\n",
            "60000/60000 [==============================] - 1s 22us/step - loss: 0.1794 - acc: 0.9497 - val_loss: 0.2680 - val_acc: 0.9156\n",
            "Epoch 18/30\n",
            "60000/60000 [==============================] - 1s 23us/step - loss: 0.1747 - acc: 0.9510 - val_loss: 0.2631 - val_acc: 0.9187\n",
            "Epoch 19/30\n",
            "60000/60000 [==============================] - 1s 22us/step - loss: 0.1703 - acc: 0.9521 - val_loss: 0.2669 - val_acc: 0.9172\n",
            "Epoch 20/30\n",
            "60000/60000 [==============================] - 1s 23us/step - loss: 0.1665 - acc: 0.9533 - val_loss: 0.2518 - val_acc: 0.9232\n",
            "Epoch 21/30\n",
            "60000/60000 [==============================] - 1s 23us/step - loss: 0.1624 - acc: 0.9547 - val_loss: 0.2513 - val_acc: 0.9238\n",
            "Epoch 22/30\n",
            "60000/60000 [==============================] - 1s 22us/step - loss: 0.1586 - acc: 0.9556 - val_loss: 0.2506 - val_acc: 0.9220\n",
            "Epoch 23/30\n",
            "60000/60000 [==============================] - 1s 23us/step - loss: 0.1552 - acc: 0.9564 - val_loss: 0.2474 - val_acc: 0.9217\n",
            "Epoch 24/30\n",
            "60000/60000 [==============================] - 1s 23us/step - loss: 0.1519 - acc: 0.9573 - val_loss: 0.2466 - val_acc: 0.9206\n",
            "Epoch 25/30\n",
            "60000/60000 [==============================] - 1s 23us/step - loss: 0.1487 - acc: 0.9578 - val_loss: 0.2275 - val_acc: 0.9300\n",
            "Epoch 26/30\n",
            "60000/60000 [==============================] - 1s 23us/step - loss: 0.1457 - acc: 0.9589 - val_loss: 0.2412 - val_acc: 0.9226\n",
            "Epoch 27/30\n",
            "60000/60000 [==============================] - 1s 22us/step - loss: 0.1428 - acc: 0.9599 - val_loss: 0.2366 - val_acc: 0.9247\n",
            "Epoch 28/30\n",
            "60000/60000 [==============================] - 1s 22us/step - loss: 0.1401 - acc: 0.9607 - val_loss: 0.2339 - val_acc: 0.9246\n",
            "Epoch 29/30\n",
            "60000/60000 [==============================] - 1s 23us/step - loss: 0.1375 - acc: 0.9615 - val_loss: 0.2246 - val_acc: 0.9294\n",
            "Epoch 30/30\n",
            "60000/60000 [==============================] - 1s 23us/step - loss: 0.1349 - acc: 0.9621 - val_loss: 0.2230 - val_acc: 0.9296\n",
            "Loss:  0.22298869279623032\n",
            "Accuracy:  92.96 %\n"
          ],
          "name": "stdout"
        }
      ]
    },
    {
      "metadata": {
        "colab_type": "code",
        "id": "uNgK--PChjMP",
        "colab": {
          "base_uri": "https://localhost:8080/",
          "height": 705
        },
        "outputId": "555dcde1-7f1c-4938-fcb9-ebbf885cfd70"
      },
      "cell_type": "code",
      "source": [
        "acc = plt.plot(range(1,31),train.history['acc'],range(1,31), train.history['val_acc'])\n",
        "plt.xlabel('No. of Epochs')\n",
        "plt.ylabel('Accuracy')\n",
        "plt.legend(('Accuracy- Training Dataset', 'Accuracy- Test Dataset'))\n",
        "plt.show(acc)\n",
        "\n",
        "los = plt.plot(range(1,31),train.history['loss'],range(1,31), train.history['val_loss'])\n",
        "plt.xlabel('No. of Epochs')\n",
        "plt.ylabel('Loss')\n",
        "plt.legend(('Loss- Training Dataset', 'Loss- Test Dataset'))\n",
        "plt.show(acc)\n"
      ],
      "execution_count": 19,
      "outputs": [
        {
          "output_type": "display_data",
          "data": {
            "image/png": "[encoded data removed]",
            "text/plain": [
              "<Figure size 576x396 with 1 Axes>"
            ]
          },
          "metadata": {
            "tags": []
          }
        },
        {
          "output_type": "display_data",
          "data": {
            "image/png": "[encoded data removed]",
            "text/plain": [
              "<Figure size 576x396 with 1 Axes>"
            ]
          },
          "metadata": {
            "tags": []
          }
        }
      ]
    }
  ]
}