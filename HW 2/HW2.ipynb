{
 "cells": [
  {
   "cell_type": "markdown",
   "metadata": {
    "colab_type": "text",
    "id": "dlSi3L9wIrik"
   },
   "source": [
    "***Convolutional Neural Network for the CIFAR10 data set***"
   ]
  },
  {
   "cell_type": "code",
   "execution_count": 1,
   "metadata": {
    "colab": {
     "base_uri": "https://localhost:8080/",
     "height": 34
    },
    "colab_type": "code",
    "id": "cQfYatN1OijN",
    "outputId": "8bff20cc-221a-4fd8-adb7-5d41baa467d7"
   },
   "outputs": [
    {
     "name": "stderr",
     "output_type": "stream",
     "text": [
      "Using TensorFlow backend.\n"
     ]
    }
   ],
   "source": [
    "import matplotlib.pyplot as plt\n",
    "from sklearn.metrics import confusion_matrix\n",
    "from sklearn.utils import shuffle\n",
    "import math\n",
    "from keras.preprocessing.image import  ImageDataGenerator\n",
    "import keras\n",
    "from keras.datasets import cifar10\n",
    "from keras.layers.convolutional import Conv2D\n",
    "from keras.layers.pooling import MaxPooling2D\n",
    "from keras.callbacks import EarlyStopping, ReduceLROnPlateau\n",
    "from sklearn.model_selection import train_test_split\n",
    "from keras import backend as K\n",
    "import numpy as np\n",
    "from keras.models import Sequential\n",
    "from keras.layers import Dense, Dropout, Flatten, GlobalAveragePooling2D, BatchNormalization, Activation\n",
    "from keras.optimizers import Adam"
   ]
  },
  {
   "cell_type": "markdown",
   "metadata": {
    "colab_type": "text",
    "id": "ps4lDTd7I-2U"
   },
   "source": [
    "Load CIFAR10 data set"
   ]
  },
  {
   "cell_type": "code",
   "execution_count": 0,
   "metadata": {
    "colab": {},
    "colab_type": "code",
    "id": "sf0gdoAwpWUb"
   },
   "outputs": [],
   "source": [
    "(x_train, y_train), (x_test, y_test) = cifar10.load_data()\n",
    "train_labels = np.array(np.squeeze(y_train))\n",
    "test_labels = np.array(np.squeeze(y_test))"
   ]
  },
  {
   "cell_type": "markdown",
   "metadata": {
    "colab_type": "text",
    "id": "-NGoHR10JFR3"
   },
   "source": [
    "Hyper Parameters/Variables"
   ]
  },
  {
   "cell_type": "code",
   "execution_count": 0,
   "metadata": {
    "colab": {},
    "colab_type": "code",
    "id": "Qss4-ybrsLcw"
   },
   "outputs": [],
   "source": [
    "channels = 3\n",
    "num_classes = 10\n",
    "batchsize = 128\n",
    "k = 5;\n",
    "epoch = 5\n",
    "rows = 32\n",
    "cols = 32\n",
    "splitIndex = math.ceil(x_train.shape[0] * 0.8)"
   ]
  },
  {
   "cell_type": "markdown",
   "metadata": {
    "colab_type": "text",
    "id": "eYvI3mnSJMeP"
   },
   "source": [
    "Preaparing Image Data"
   ]
  },
  {
   "cell_type": "code",
   "execution_count": 0,
   "metadata": {
    "colab": {},
    "colab_type": "code",
    "id": "y7qLY_ZusP08"
   },
   "outputs": [],
   "source": [
    "def imageLabel(label_data):\n",
    "  class_names = ['airplane', 'automobile', 'bird', 'cat', 'deer', 'dog', 'frog', 'horse', 'ship', 'truck']\n",
    "  return class_names[label_data];\n",
    "\n",
    "\n",
    "if K.image_data_format() == 'channels_first':\n",
    "    x_train = x_train.reshape(x_train.shape[0], channels, rows, cols)\n",
    "    x_test = x_test.reshape(x_test.shape[0], channels, rows, cols)\n",
    "    inputShape = (channels, rows, cols)\n",
    "else:\n",
    "    x_train = x_train.reshape(x_train.shape[0], rows, cols, channels)\n",
    "    x_test = x_test.reshape(x_test.shape[0], rows, cols, channels)\n",
    "    inputShape = (rows, cols, channels)\n",
    "\n",
    "    \n",
    "x_train = x_train / 255;\n",
    "x_test = x_test / 255;\n",
    "\n",
    "y_train = keras.utils.to_categorical(y_train, num_classes)\n",
    "y_test = keras.utils.to_categorical(y_test, num_classes)"
   ]
  },
  {
   "cell_type": "markdown",
   "metadata": {
    "colab_type": "text",
    "id": "ZLQGoinKJdDf"
   },
   "source": [
    "Models "
   ]
  },
  {
   "cell_type": "code",
   "execution_count": 0,
   "metadata": {
    "colab": {},
    "colab_type": "code",
    "id": "oQD2hQrkezcv"
   },
   "outputs": [],
   "source": [
    "def modelOne():\n",
    "  model = Sequential()\n",
    "  model.add(Conv2D(32, kernel_size=(3, 3), activation='relu', input_shape=inputShape))\n",
    "  model.add(Conv2D(64, kernel_size=(3, 3), activation='relu'))\n",
    "  model.add(MaxPooling2D(pool_size=(2, 2)))\n",
    "  model.add(Dropout(0.25))\n",
    "\n",
    "  model.add(Conv2D(128, kernel_size=(3, 3), activation='relu'))\n",
    "  model.add(MaxPooling2D(pool_size=(2, 2)))\n",
    "  model.add(Conv2D(256, kernel_size=(3, 3), activation='relu'))\n",
    "  model.add(MaxPooling2D(pool_size=(2, 2)))\n",
    "  model.add(Dropout(0.25))\n",
    "\n",
    "  model.add(Flatten())\n",
    "  model.add(Dense(1024, activation='relu'))\n",
    "  model.add(Dropout(0.5))\n",
    "  model.add(Dense(num_classes, activation='softmax'))\n",
    "  return model"
   ]
  },
  {
   "cell_type": "code",
   "execution_count": 0,
   "metadata": {
    "colab": {},
    "colab_type": "code",
    "id": "urcuL1SXgLWm"
   },
   "outputs": [],
   "source": [
    "def modelTwo():\n",
    "  model = Sequential()\n",
    "  \n",
    "\n",
    "  model.add(Conv2D(32, kernel_size=(3, 3), activation='relu', input_shape=inputShape))\n",
    "  model.add(BatchNormalization())\n",
    "  model.add(Conv2D(64, kernel_size=(3, 3), activation='relu'))\n",
    "  model.add(BatchNormalization())\n",
    "  model.add(MaxPooling2D(pool_size=(2, 2)))\n",
    "  model.add(Dropout(0.25))\n",
    "\n",
    "  model.add(Conv2D(128, kernel_size=(3, 3), activation='relu'))\n",
    "  model.add(BatchNormalization())\n",
    "  model.add(Conv2D(256, kernel_size=(3, 3), activation='relu'))\n",
    "  model.add(BatchNormalization())\n",
    "  model.add(MaxPooling2D(pool_size=(2, 2)))\n",
    "  model.add(Dropout(0.25))\n",
    "\n",
    "  model.add(Flatten())\n",
    "  model.add(Dense(1024, activation='relu'))\n",
    "  model.add(BatchNormalization())\n",
    "  model.add(Dropout(0.5))\n",
    "  model.add(Dense(num_classes, activation='softmax'))\n",
    "  return model"
   ]
  },
  {
   "cell_type": "code",
   "execution_count": 0,
   "metadata": {
    "colab": {},
    "colab_type": "code",
    "id": "WsyWzes3r-54"
   },
   "outputs": [],
   "source": [
    "def modelThree():\n",
    "  model = Sequential()\n",
    "\n",
    "  model.add(Conv2D(32, kernel_size=(3, 3), activation='relu', input_shape=inputShape))\n",
    "  model.add(Conv2D(32, kernel_size=(3, 3), activation='relu'))\n",
    "  model.add(MaxPooling2D(pool_size=(2, 2)))\n",
    "  model.add(Dropout(0.25))\n",
    "\n",
    "  model.add(Conv2D(64, kernel_size=(3, 3), activation='relu', padding='same'))\n",
    "  model.add(Conv2D(64, kernel_size=(3, 3), activation='relu'))\n",
    "  model.add(MaxPooling2D(pool_size=(2, 2)))\n",
    "  model.add(Dropout(0.25))\n",
    "\n",
    "  model.add(Flatten())\n",
    "  model.add(Dense(512, activation='relu'))\n",
    "  model.add(Dropout(0.5))\n",
    "  model.add(Dense(num_classes, activation='softmax'))\n",
    "  \n",
    "  return model"
   ]
  },
  {
   "cell_type": "code",
   "execution_count": 0,
   "metadata": {
    "colab": {},
    "colab_type": "code",
    "id": "9Y1yb_TxsFcE"
   },
   "outputs": [],
   "source": [
    "def modelFour():\n",
    "  model = Sequential()\n",
    "\n",
    "  model.add(Conv2D(32, kernel_size=(3, 3), activation='relu', input_shape=inputShape))\n",
    "  model.add(BatchNormalization())\n",
    "  model.add(Conv2D(32, kernel_size=(3, 3), activation='relu', padding='same'))\n",
    "  model.add(BatchNormalization())\n",
    "  model.add(MaxPooling2D(pool_size=(2, 2)))\n",
    "  model.add(Dropout(0.25))\n",
    "\n",
    "  model.add(Conv2D(64, kernel_size=(3, 3), activation='relu', padding='same'))\n",
    "  model.add(BatchNormalization())\n",
    "  model.add(Conv2D(64, kernel_size=(3, 3), activation='relu', padding='same'))\n",
    "  model.add(BatchNormalization())\n",
    "  model.add(MaxPooling2D(pool_size=(2, 2)))\n",
    "  model.add(Dropout(0.25))\n",
    "  \n",
    "  model.add(Conv2D(128, kernel_size=(3, 3), activation='relu', padding='same'))\n",
    "  model.add(BatchNormalization())\n",
    "  model.add(Conv2D(128, kernel_size=(3, 3), activation='relu', padding='same'))\n",
    "  model.add(BatchNormalization())\n",
    "  model.add(MaxPooling2D(pool_size=(2, 2)))\n",
    "  model.add(Dropout(0.25))\n",
    "  \n",
    "  model.add(Conv2D(256, kernel_size=(3, 3), activation='relu', padding='same'))\n",
    "  model.add(BatchNormalization())\n",
    "  model.add(Conv2D(256, kernel_size=(3, 3), activation='relu',padding='same'))\n",
    "  model.add(BatchNormalization())\n",
    "  model.add(MaxPooling2D(pool_size=(2, 2)))\n",
    "  model.add(Dropout(0.25))\n",
    "  \n",
    "  \n",
    "  model.add(Conv2D(num_classes, kernel_size=(3, 3), padding='same'))\n",
    "  model.add(GlobalAveragePooling2D())\n",
    "  model.add(Activation('softmax'))\n",
    "  return model"
   ]
  },
  {
   "cell_type": "markdown",
   "metadata": {
    "colab_type": "text",
    "id": "BdGlLm_OJjM-"
   },
   "source": [
    "Simple Hold Out Validation"
   ]
  },
  {
   "cell_type": "code",
   "execution_count": 0,
   "metadata": {
    "colab": {},
    "colab_type": "code",
    "id": "hrC8Ic5mgSEe"
   },
   "outputs": [],
   "source": [
    "def train(baseModel, modelId, x_train, y_train, x_test, y_test, batchsize, epoch, score):\n",
    "  train_x = x_train[:splitIndex]\n",
    "  train_y = y_train[:splitIndex]\n",
    "  val_x = x_train[splitIndex:]\n",
    "  val_y = y_train[splitIndex:]\n",
    "  dataGen = ImageDataGenerator(rotation_range = 45, width_shift_range = 0.1, horizontal_flip= True, vertical_flip= False, height_shift_range= 0.1)\n",
    "  dataGen.fit(train_x)\n",
    "  optimizer_adam = keras.optimizers.adam(decay= 1e-6, lr= 0.001)\n",
    "  model = baseModel\n",
    "  model.compile(optimizer = optimizer_adam, loss = 'categorical_crossentropy', metrics=['accuracy'])\n",
    "  reduce_lr = ReduceLROnPlateau('val_loss', patience = 3, verbose = 1, factor = 0.1)\n",
    "  early_stop = EarlyStopping('val_loss', patience= 5)\n",
    "  callBacks = [early_stop, reduce_lr]\n",
    "  trainEpoch = 40000 / batchsize\n",
    "  valEpoch = 10000 / batchsize\n",
    "  model.fit_generator(dataGen.flow(train_x, train_y, batch_size = batchsize),steps_per_epoch= trainEpoch, validation_data=(val_x, val_y), callbacks= callBacks, epochs= epoch)\n",
    "  scores = model.evaluate(x_test, y_test)\n",
    "  score[modelId] = [model, scores[1]]"
   ]
  },
  {
   "cell_type": "markdown",
   "metadata": {
    "colab_type": "text",
    "id": "kUujaZaqJmpx"
   },
   "source": [
    "K-fold Validation (k=>5)"
   ]
  },
  {
   "cell_type": "code",
   "execution_count": 0,
   "metadata": {
    "colab": {},
    "colab_type": "code",
    "id": "-werkqrqnVfh"
   },
   "outputs": [],
   "source": [
    "def train_k_fold(baseModel, x_train, y_train, x_test, y_test, batchsize, epoch):\n",
    "  k_fold_dic = {}\n",
    "\n",
    "  sum_of_accuracies = 0\n",
    "\n",
    "  for i in range(k):\n",
    "\n",
    "    x_train,y_train = shuffle(x_train, y_train)\n",
    "    x_train_fold = x_train[:splitIndex]\n",
    "    y_train_fold = y_train[:splitIndex]\n",
    "    x_val_fold   = x_train[splitIndex:]\n",
    "    y_val_fold   = y_train[splitIndex:]\n",
    "\n",
    "    \n",
    "    dataGen = ImageDataGenerator(rotation_range=45,width_shift_range=0.1,height_shift_range=0.1,horizontal_flip=True,vertical_flip=False)\n",
    "    dataGen.fit(x_train_fold)\n",
    "    \n",
    "    optimizer_adam = keras.optimizers.adam(lr=0.001,decay=1e-6)\n",
    "    \n",
    "    model = baseModel\n",
    "    \n",
    "    model.compile(optimizer=optimizer_adam, loss='categorical_crossentropy', metrics=['accuracy'])\n",
    "    \n",
    "    early_stop = EarlyStopping('val_loss', patience=5)\n",
    "\n",
    "    reduce_lr = ReduceLROnPlateau('val_loss', patience=3, factor=0.1, verbose=1)\n",
    "    \n",
    "    callbacks = [early_stop, reduce_lr]\n",
    "    \n",
    "    train_epoch = 40000 / batchsize\n",
    "\n",
    "    val_epoch = 10000 / batchsize\n",
    "\n",
    "    model.fit_generator(dataGen.flow(x_train, y_train, batch_size=batchsize), epochs= epoch, steps_per_epoch= train_epoch, validation_steps= val_epoch, validation_data= (x_val_fold, y_val_fold), callbacks= callbacks)\n",
    "\n",
    "    scores = model.evaluate(x_test, y_test)\n",
    "\n",
    "    sum_of_accuracies += scores[1]\n",
    "\n",
    "    k_fold_dic[i+1] = [model,scores[1]] # selecting the best model based on accuracy on test, we can also do this by loss as well.\n",
    "    \n",
    "  \n",
    "  \n",
    "  average_score = sum_of_accuracies / 5;\n",
    "\n",
    "  score_delta = 100 # some max number\n",
    "  final_model = 0\n",
    "  final_score = 0\n",
    "\n",
    "  for fold in k_fold_dic:\n",
    "    if(score_delta > abs(k_fold_dic[fold][1] - average_score)):\n",
    "      score_delta = abs(k_fold_dic[fold][1] - average_score)\n",
    "      final_model = k_fold_dic[fold][0]\n",
    "      final_model_score = k_fold_dic[fold][1]\n",
    "      \n",
    "  return final_model, final_model_score"
   ]
  },
  {
   "cell_type": "markdown",
   "metadata": {
    "colab_type": "text",
    "id": "7sXBhOIyJv3Q"
   },
   "source": [
    "**Training with Simple Hold out validation**"
   ]
  },
  {
   "cell_type": "code",
   "execution_count": 12,
   "metadata": {
    "colab": {
     "base_uri": "https://localhost:8080/",
     "height": 377
    },
    "colab_type": "code",
    "id": "zUetst9hnYKo",
    "outputId": "5426c034-e1f7-40bc-9e79-76d5c9d0c6db"
   },
   "outputs": [
    {
     "name": "stdout",
     "output_type": "stream",
     "text": [
      "WARNING:tensorflow:From /usr/local/lib/python3.6/dist-packages/tensorflow/python/framework/op_def_library.py:263: colocate_with (from tensorflow.python.framework.ops) is deprecated and will be removed in a future version.\n",
      "Instructions for updating:\n",
      "Colocations handled automatically by placer.\n",
      "WARNING:tensorflow:From /usr/local/lib/python3.6/dist-packages/keras/backend/tensorflow_backend.py:3445: calling dropout (from tensorflow.python.ops.nn_ops) with keep_prob is deprecated and will be removed in a future version.\n",
      "Instructions for updating:\n",
      "Please use `rate` instead of `keep_prob`. Rate should be set to `rate = 1 - keep_prob`.\n",
      "WARNING:tensorflow:From /usr/local/lib/python3.6/dist-packages/tensorflow/python/ops/math_ops.py:3066: to_int32 (from tensorflow.python.ops.math_ops) is deprecated and will be removed in a future version.\n",
      "Instructions for updating:\n",
      "Use tf.cast instead.\n",
      "Epoch 1/5\n",
      "313/312 [==============================] - 28s 90ms/step - loss: 1.8146 - acc: 0.3265 - val_loss: 1.5128 - val_acc: 0.4500\n",
      "Epoch 2/5\n",
      "313/312 [==============================] - 24s 77ms/step - loss: 1.5172 - acc: 0.4487 - val_loss: 1.3081 - val_acc: 0.5290\n",
      "Epoch 3/5\n",
      "313/312 [==============================] - 25s 80ms/step - loss: 1.3604 - acc: 0.5116 - val_loss: 1.1563 - val_acc: 0.5903\n",
      "Epoch 4/5\n",
      "313/312 [==============================] - 25s 79ms/step - loss: 1.2732 - acc: 0.5479 - val_loss: 1.0902 - val_acc: 0.6124\n",
      "Epoch 5/5\n",
      "313/312 [==============================] - 25s 79ms/step - loss: 1.1976 - acc: 0.5729 - val_loss: 1.0056 - val_acc: 0.6456\n",
      "10000/10000 [==============================] - 2s 183us/step\n"
     ]
    }
   ],
   "source": [
    "score = {}\n",
    "train(modelOne(), 1, x_train, y_train, x_test, y_test, batchsize, epoch, score)"
   ]
  },
  {
   "cell_type": "code",
   "execution_count": 13,
   "metadata": {
    "colab": {
     "base_uri": "https://localhost:8080/",
     "height": 224
    },
    "colab_type": "code",
    "id": "Pm9DLezKoMsN",
    "outputId": "91c6aabb-c25e-4069-d669-0deed69006ba"
   },
   "outputs": [
    {
     "name": "stdout",
     "output_type": "stream",
     "text": [
      "Epoch 1/5\n",
      "313/312 [==============================] - 31s 98ms/step - loss: 1.9540 - acc: 0.3842 - val_loss: 1.8010 - val_acc: 0.4143\n",
      "Epoch 2/5\n",
      "313/312 [==============================] - 28s 89ms/step - loss: 1.4152 - acc: 0.5108 - val_loss: 1.4536 - val_acc: 0.5069\n",
      "Epoch 3/5\n",
      "313/312 [==============================] - 28s 89ms/step - loss: 1.2319 - acc: 0.5673 - val_loss: 1.3253 - val_acc: 0.5663\n",
      "Epoch 4/5\n",
      "313/312 [==============================] - 28s 89ms/step - loss: 1.1261 - acc: 0.6036 - val_loss: 0.9844 - val_acc: 0.6572\n",
      "Epoch 5/5\n",
      "313/312 [==============================] - 28s 90ms/step - loss: 1.0500 - acc: 0.6285 - val_loss: 1.2827 - val_acc: 0.6116\n",
      "10000/10000 [==============================] - 2s 227us/step\n"
     ]
    }
   ],
   "source": [
    "train(modelTwo(), 1, x_train, y_train, x_test, y_test, batchsize, epoch, score)"
   ]
  },
  {
   "cell_type": "code",
   "execution_count": 14,
   "metadata": {
    "colab": {
     "base_uri": "https://localhost:8080/",
     "height": 224
    },
    "colab_type": "code",
    "id": "zFqCMpQowBSE",
    "outputId": "e08ecc0b-9f57-4d66-9c31-2ffcc858f174"
   },
   "outputs": [
    {
     "name": "stdout",
     "output_type": "stream",
     "text": [
      "Epoch 1/5\n",
      "313/312 [==============================] - 24s 78ms/step - loss: 1.8327 - acc: 0.3240 - val_loss: 1.5302 - val_acc: 0.4322\n",
      "Epoch 2/5\n",
      "313/312 [==============================] - 23s 73ms/step - loss: 1.5457 - acc: 0.4369 - val_loss: 1.2886 - val_acc: 0.5326\n",
      "Epoch 3/5\n",
      "313/312 [==============================] - 23s 74ms/step - loss: 1.4311 - acc: 0.4817 - val_loss: 1.2206 - val_acc: 0.5589\n",
      "Epoch 4/5\n",
      "313/312 [==============================] - 23s 73ms/step - loss: 1.3395 - acc: 0.5173 - val_loss: 1.1630 - val_acc: 0.5818\n",
      "Epoch 5/5\n",
      "313/312 [==============================] - 23s 74ms/step - loss: 1.2863 - acc: 0.5395 - val_loss: 1.1425 - val_acc: 0.5911\n",
      "10000/10000 [==============================] - 2s 153us/step\n"
     ]
    }
   ],
   "source": [
    "train(modelThree(), 1, x_train, y_train, x_test, y_test, batchsize, epoch, score)"
   ]
  },
  {
   "cell_type": "code",
   "execution_count": 15,
   "metadata": {
    "colab": {
     "base_uri": "https://localhost:8080/",
     "height": 224
    },
    "colab_type": "code",
    "id": "Xjn9EwtFwDqW",
    "outputId": "b570f158-ba5f-422a-bf17-1d9f1de2b777"
   },
   "outputs": [
    {
     "name": "stdout",
     "output_type": "stream",
     "text": [
      "Epoch 1/5\n",
      "313/312 [==============================] - 32s 103ms/step - loss: 1.6617 - acc: 0.3928 - val_loss: 1.6626 - val_acc: 0.4712\n",
      "Epoch 2/5\n",
      "313/312 [==============================] - 31s 98ms/step - loss: 1.3345 - acc: 0.5187 - val_loss: 1.1698 - val_acc: 0.5736\n",
      "Epoch 3/5\n",
      "313/312 [==============================] - 28s 90ms/step - loss: 1.1856 - acc: 0.5723 - val_loss: 1.2131 - val_acc: 0.5928\n",
      "Epoch 4/5\n",
      "313/312 [==============================] - 30s 95ms/step - loss: 1.0847 - acc: 0.6146 - val_loss: 1.0752 - val_acc: 0.6323\n",
      "Epoch 5/5\n",
      "313/312 [==============================] - 28s 90ms/step - loss: 1.0051 - acc: 0.6468 - val_loss: 1.3197 - val_acc: 0.5964\n",
      "10000/10000 [==============================] - 2s 225us/step\n"
     ]
    }
   ],
   "source": [
    "train(modelFour(), 1, x_train, y_train, x_test, y_test, batchsize, epoch, score)"
   ]
  },
  {
   "cell_type": "markdown",
   "metadata": {
    "colab_type": "text",
    "id": "gl1a28zHJ6Lq"
   },
   "source": [
    "**Best Model Selection and model selection for K-fold validation**"
   ]
  },
  {
   "cell_type": "code",
   "execution_count": 16,
   "metadata": {
    "colab": {
     "base_uri": "https://localhost:8080/",
     "height": 51
    },
    "colab_type": "code",
    "id": "iY4D8GI5wW4H",
    "outputId": "c2cb9d2d-5424-486d-fd54-f96b7399204e"
   },
   "outputs": [
    {
     "name": "stdout",
     "output_type": "stream",
     "text": [
      "Best model: 1\n",
      "Score of the model: 0.5936\n"
     ]
    }
   ],
   "source": [
    "bestModelID, bestModel, bestScore = 0,0,0\n",
    "for modelId in score:\n",
    "  if(bestScore < score[modelId][1]):\n",
    "    bestModelId = modelId\n",
    "    bestScore = score[modelId][1]\n",
    "    bestModel = score[modelId][0]\n",
    "print(\"Best model:\", bestModelId)\n",
    "print(\"Score of the model:\", bestScore)\n",
    "\n",
    "K_fold_model = 0\n",
    "\n",
    "if(bestModelId == 1):\n",
    "  k_fold_model = modelOne()\n",
    "elif(bestModelId == 2):\n",
    "  k_fold_model = modelTwo()\n",
    "elif(bestModelId == 3):\n",
    "  k_fold_model = modelThree()\n",
    "elif(bestModelId == 4):\n",
    "  k_fold_model = modelFour()\n",
    "else:\n",
    "  k_fold_model = modelFive()\n"
   ]
  },
  {
   "cell_type": "markdown",
   "metadata": {
    "colab_type": "text",
    "id": "gf3DVMHKJ_D2"
   },
   "source": [
    "**Training with K-fold validation**"
   ]
  },
  {
   "cell_type": "code",
   "execution_count": 17,
   "metadata": {
    "colab": {
     "base_uri": "https://localhost:8080/",
     "height": 972
    },
    "colab_type": "code",
    "id": "Ia1sW7NbxsRw",
    "outputId": "c76ad30b-24d2-40f8-84ab-a476a670a580"
   },
   "outputs": [
    {
     "name": "stdout",
     "output_type": "stream",
     "text": [
      "Epoch 1/5\n",
      "313/312 [==============================] - 25s 80ms/step - loss: 1.8400 - acc: 0.3093 - val_loss: 1.4569 - val_acc: 0.4699\n",
      "Epoch 2/5\n",
      "313/312 [==============================] - 24s 76ms/step - loss: 1.5021 - acc: 0.4510 - val_loss: 1.2328 - val_acc: 0.5566\n",
      "Epoch 3/5\n",
      "313/312 [==============================] - 23s 74ms/step - loss: 1.3620 - acc: 0.5096 - val_loss: 1.1405 - val_acc: 0.5992\n",
      "Epoch 4/5\n",
      "313/312 [==============================] - 24s 76ms/step - loss: 1.2670 - acc: 0.5455 - val_loss: 1.0230 - val_acc: 0.6367\n",
      "Epoch 5/5\n",
      "313/312 [==============================] - 23s 74ms/step - loss: 1.2034 - acc: 0.5723 - val_loss: 0.9561 - val_acc: 0.6606\n",
      "10000/10000 [==============================] - 2s 165us/step\n",
      "Epoch 1/5\n",
      "313/312 [==============================] - 26s 83ms/step - loss: 1.1464 - acc: 0.5944 - val_loss: 0.9730 - val_acc: 0.6556\n",
      "Epoch 2/5\n",
      "313/312 [==============================] - 23s 73ms/step - loss: 1.1001 - acc: 0.6080 - val_loss: 0.8859 - val_acc: 0.6857\n",
      "Epoch 3/5\n",
      "313/312 [==============================] - 24s 76ms/step - loss: 1.0612 - acc: 0.6256 - val_loss: 0.8962 - val_acc: 0.6887\n",
      "Epoch 4/5\n",
      "313/312 [==============================] - 24s 76ms/step - loss: 1.0374 - acc: 0.6354 - val_loss: 0.8675 - val_acc: 0.6936\n",
      "Epoch 5/5\n",
      "313/312 [==============================] - 24s 76ms/step - loss: 1.0255 - acc: 0.6397 - val_loss: 0.8875 - val_acc: 0.6911\n",
      "10000/10000 [==============================] - 2s 178us/step\n",
      "Epoch 1/5\n",
      "313/312 [==============================] - 25s 79ms/step - loss: 0.9928 - acc: 0.6488 - val_loss: 0.8213 - val_acc: 0.7097\n",
      "Epoch 2/5\n",
      "313/312 [==============================] - 24s 77ms/step - loss: 0.9743 - acc: 0.6569 - val_loss: 0.8612 - val_acc: 0.7003\n",
      "Epoch 3/5\n",
      "313/312 [==============================] - 23s 74ms/step - loss: 0.9554 - acc: 0.6632 - val_loss: 0.8294 - val_acc: 0.7128\n",
      "Epoch 4/5\n",
      "313/312 [==============================] - 24s 77ms/step - loss: 0.9446 - acc: 0.6682 - val_loss: 0.8026 - val_acc: 0.7131\n",
      "Epoch 5/5\n",
      "313/312 [==============================] - 23s 73ms/step - loss: 0.9305 - acc: 0.6692 - val_loss: 0.7140 - val_acc: 0.7441\n",
      "10000/10000 [==============================] - 2s 165us/step\n",
      "Epoch 1/5\n",
      "313/312 [==============================] - 26s 83ms/step - loss: 0.9143 - acc: 0.6772 - val_loss: 0.7547 - val_acc: 0.7379\n",
      "Epoch 2/5\n",
      "313/312 [==============================] - 23s 74ms/step - loss: 0.9043 - acc: 0.6845 - val_loss: 0.7732 - val_acc: 0.7277\n",
      "Epoch 3/5\n",
      "313/312 [==============================] - 24s 77ms/step - loss: 0.8880 - acc: 0.6912 - val_loss: 0.7137 - val_acc: 0.7462\n",
      "Epoch 4/5\n",
      "313/312 [==============================] - 24s 76ms/step - loss: 0.8858 - acc: 0.6895 - val_loss: 0.7187 - val_acc: 0.7500\n",
      "Epoch 5/5\n",
      "313/312 [==============================] - 24s 77ms/step - loss: 0.8710 - acc: 0.6927 - val_loss: 0.7016 - val_acc: 0.7530\n",
      "10000/10000 [==============================] - 2s 176us/step\n",
      "Epoch 1/5\n",
      "313/312 [==============================] - 26s 84ms/step - loss: 0.8641 - acc: 0.6995 - val_loss: 0.7017 - val_acc: 0.7471\n",
      "Epoch 2/5\n",
      "313/312 [==============================] - 23s 73ms/step - loss: 0.8564 - acc: 0.7007 - val_loss: 0.7296 - val_acc: 0.7409\n",
      "Epoch 3/5\n",
      "313/312 [==============================] - 23s 74ms/step - loss: 0.8488 - acc: 0.7051 - val_loss: 0.6681 - val_acc: 0.7648\n",
      "Epoch 4/5\n",
      "313/312 [==============================] - 23s 73ms/step - loss: 0.8375 - acc: 0.7084 - val_loss: 0.6602 - val_acc: 0.7676\n",
      "Epoch 5/5\n",
      "313/312 [==============================] - 23s 74ms/step - loss: 0.8340 - acc: 0.7102 - val_loss: 0.6873 - val_acc: 0.7560\n",
      "10000/10000 [==============================] - 2s 176us/step\n"
     ]
    }
   ],
   "source": [
    "ResModel, ResScore = train_k_fold(k_fold_model, x_train, y_train, x_test, y_test, batchsize, epoch)  "
   ]
  },
  {
   "cell_type": "markdown",
   "metadata": {
    "colab_type": "text",
    "id": "0r0b5jZfKYKS"
   },
   "source": [
    "**K-Fold validation Score**"
   ]
  },
  {
   "cell_type": "code",
   "execution_count": 21,
   "metadata": {
    "colab": {
     "base_uri": "https://localhost:8080/",
     "height": 51
    },
    "colab_type": "code",
    "id": "6wy467tw4ym2",
    "outputId": "5c93f796-2b04-4817-a1f5-e7722fb42a33"
   },
   "outputs": [
    {
     "name": "stdout",
     "output_type": "stream",
     "text": [
      "Best Model using K-fold model <keras.engine.sequential.Sequential object at 0x7fa2d3162780>\n",
      "Model Score 0.7288\n"
     ]
    }
   ],
   "source": [
    "print(\"Best Model using K-fold model\", ResModel)\n",
    "print(\"Model Score\", ResScore)"
   ]
  },
  {
   "cell_type": "markdown",
   "metadata": {
    "colab_type": "text",
    "id": "KLdTKa-pKdKa"
   },
   "source": [
    "***Confusion Matrix***"
   ]
  },
  {
   "cell_type": "markdown",
   "metadata": {
    "colab_type": "text",
    "id": "Vtj2etAJKjFp"
   },
   "source": [
    "**simple Hold Out Validation**"
   ]
  },
  {
   "cell_type": "code",
   "execution_count": 24,
   "metadata": {
    "colab": {
     "base_uri": "https://localhost:8080/",
     "height": 187
    },
    "colab_type": "code",
    "id": "AXaDh3JD6_Hw",
    "outputId": "2398b55e-d5ea-4141-c3d4-254c990320c2"
   },
   "outputs": [
    {
     "name": "stdout",
     "output_type": "stream",
     "text": [
      "[[517 136  10   0   7   1   7   7 201 114]\n",
      " [  1 925   0   0   0   1   5   0   4  64]\n",
      " [ 78  97 353  29  28  35 206  29  74  71]\n",
      " [ 15  97  25 238  17  69 298  43  94 104]\n",
      " [ 18  25  51  17 353   4 359  94  33  46]\n",
      " [  0  77  18  89  18 380 190  68  59 101]\n",
      " [  2  31  11  10   3   4 878   4  23  34]\n",
      " [  5  79   8  11  17  15  55 652  15 143]\n",
      " [ 24  95   1   1   1   0   6   0 815  57]\n",
      " [  4 150   0   1   0   0   7   2  11 825]]\n"
     ]
    }
   ],
   "source": [
    "y_pred = np.argmax(bestModel.predict(x_test), axis = 1)\n",
    "cm = confusion_matrix(y_true= test_labels, y_pred = y_pred)\n",
    "print(cm)"
   ]
  },
  {
   "cell_type": "code",
   "execution_count": 28,
   "metadata": {
    "colab": {
     "base_uri": "https://localhost:8080/",
     "height": 361
    },
    "colab_type": "code",
    "id": "_fLRNffM7hiY",
    "outputId": "45bb336d-21bb-4b7c-87d4-ce3438a128c1"
   },
   "outputs": [
    {
     "data": {
      "image/png": "[encoded data removed]",
      "text/plain": [
       "<Figure size 576x396 with 2 Axes>"
      ]
     },
     "metadata": {
      "tags": []
     },
     "output_type": "display_data"
    }
   ],
   "source": [
    "plt.imshow(cm, interpolation=None, cmap=plt.cm.cividis)\n",
    "plt.grid(None)\n",
    "plt.colorbar()\n",
    "tick_marks = np.arange(10)\n",
    "plt.xticks(tick_marks, np.arange(10))\n",
    "plt.yticks(tick_marks, np.arange(10))\n",
    "plt.xlabel('predicted')\n",
    "plt.ylabel('true')\n",
    "plt.show()"
   ]
  },
  {
   "cell_type": "markdown",
   "metadata": {
    "colab_type": "text",
    "id": "IN-oCnMLKssE"
   },
   "source": [
    "**K-Fold Validation**"
   ]
  },
  {
   "cell_type": "code",
   "execution_count": 30,
   "metadata": {
    "colab": {
     "base_uri": "https://localhost:8080/",
     "height": 187
    },
    "colab_type": "code",
    "id": "aE_blJq8ABI9",
    "outputId": "0204c16e-6016-4202-f377-ae3cb5ea9404"
   },
   "outputs": [
    {
     "name": "stdout",
     "output_type": "stream",
     "text": [
      "[[517 136  10   0   7   1   7   7 201 114]\n",
      " [  1 925   0   0   0   1   5   0   4  64]\n",
      " [ 78  97 353  29  28  35 206  29  74  71]\n",
      " [ 15  97  25 238  17  69 298  43  94 104]\n",
      " [ 18  25  51  17 353   4 359  94  33  46]\n",
      " [  0  77  18  89  18 380 190  68  59 101]\n",
      " [  2  31  11  10   3   4 878   4  23  34]\n",
      " [  5  79   8  11  17  15  55 652  15 143]\n",
      " [ 24  95   1   1   1   0   6   0 815  57]\n",
      " [  4 150   0   1   0   0   7   2  11 825]]\n"
     ]
    }
   ],
   "source": [
    "y_pred_1 = np.argmax(bestModel.predict(x_test), axis = 1)\n",
    "cm_1 = confusion_matrix(y_true = test_labels, y_pred= y_pred_1)\n",
    "print(cm_1)"
   ]
  },
  {
   "cell_type": "code",
   "execution_count": 31,
   "metadata": {
    "colab": {
     "base_uri": "https://localhost:8080/",
     "height": 361
    },
    "colab_type": "code",
    "id": "JJLcN4j8Ed3N",
    "outputId": "8ad1d59f-0029-4622-e683-0fdcafc1b0a0"
   },
   "outputs": [
    {
     "data": {
      "image/png": "[encoded data removed]",
      "text/plain": [
       "<Figure size 576x396 with 2 Axes>"
      ]
     },
     "metadata": {
      "tags": []
     },
     "output_type": "display_data"
    }
   ],
   "source": [
    "plt.imshow(cm, interpolation=None, cmap=plt.cm.cividis)\n",
    "plt.grid(None)\n",
    "plt.colorbar()\n",
    "tick_marks = np.arange(10)\n",
    "plt.xticks(tick_marks, np.arange(10))\n",
    "plt.yticks(tick_marks, np.arange(10))\n",
    "plt.xlabel('predicted')\n",
    "plt.ylabel('true')\n",
    "plt.show()"
   ]
  }
 ],
 "metadata": {
  "accelerator": "GPU",
  "colab": {
   "collapsed_sections": [],
   "name": "hw2-2.ipynb",
   "provenance": [],
   "version": "0.3.2"
  },
  "kernelspec": {
   "display_name": "Python 3",
   "language": "python",
   "name": "python3"
  },
  "language_info": {
   "codemirror_mode": {
    "name": "ipython",
    "version": 3
   },
   "file_extension": ".py",
   "mimetype": "text/x-python",
   "name": "python",
   "nbconvert_exporter": "python",
   "pygments_lexer": "ipython3",
   "version": "3.7.2"
  }
 },
 "nbformat": 4,
 "nbformat_minor": 1
}
