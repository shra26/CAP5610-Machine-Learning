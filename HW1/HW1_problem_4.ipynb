{
  "nbformat": 4,
  "nbformat_minor": 0,
  "metadata": {
    "colab": {
      "name": "HW1-problem-4.ipynb",
      "version": "0.3.2",
      "provenance": [],
      "collapsed_sections": []
    },
    "kernelspec": {
      "name": "python3",
      "display_name": "Python 3"
    }
  },
  "cells": [
    {
      "metadata": {
        "id": "obQrYH71uz2D",
        "colab_type": "code",
        "outputId": "87a20021-f3c9-482c-8e93-a079816599ca",
        "colab": {
          "base_uri": "https://localhost:8080/",
          "height": 35
        }
      },
      "cell_type": "code",
      "source": [
        "import numpy as np\n",
        "import matplotlib.pyplot as plt\n",
        "import keras\n",
        "from keras.datasets import mnist\n",
        "from keras.models import Sequential\n",
        "from keras.layers import Dense, Activation"
      ],
      "execution_count": 1,
      "outputs": [
        {
          "output_type": "stream",
          "text": [
            "Using TensorFlow backend.\n"
          ],
          "name": "stderr"
        }
      ]
    },
    {
      "metadata": {
        "id": "i0RFZf4YvaLT",
        "colab_type": "code",
        "colab": {}
      },
      "cell_type": "code",
      "source": [
        "(x_train, y_train), (x_test, y_test) = mnist.load_data() # load MNIST dataset into training and test sets."
      ],
      "execution_count": 0,
      "outputs": []
    },
    {
      "metadata": {
        "id": "bSZ5NuiwRU8D",
        "colab_type": "code",
        "colab": {}
      },
      "cell_type": "code",
      "source": [
        "x_train = x_train.reshape(60000,784) # data reshape before normalization\n",
        "y_train = keras.utils.to_categorical(y_train, 10) # convert to categorical data instead of numerical data\n"
      ],
      "execution_count": 0,
      "outputs": []
    },
    {
      "metadata": {
        "id": "VEHBM7WT2pZe",
        "colab_type": "code",
        "colab": {}
      },
      "cell_type": "code",
      "source": [
        "x_test = x_test.reshape(10000,784) # data reshape before normalization\n",
        "y_test = keras.utils.to_categorical(y_test,10) # convert to categorical data instead of numerical data"
      ],
      "execution_count": 0,
      "outputs": []
    },
    {
      "metadata": {
        "id": "qP516_IGfuKD",
        "colab_type": "code",
        "colab": {}
      },
      "cell_type": "code",
      "source": [
        "x_train = x_train.astype('float32') # Define as float32 type\n",
        "x_test = x_test.astype('float32') # Define as float32 type\n",
        "x_train /= 255 # normalization\n",
        "x_test /= 255 # normalization"
      ],
      "execution_count": 0,
      "outputs": []
    },
    {
      "metadata": {
        "id": "qfNCsyymnMx_",
        "colab_type": "code",
        "outputId": "390184a2-4c0a-4acb-ab9a-7bccc1e831ae",
        "colab": {
          "base_uri": "https://localhost:8080/",
          "height": 54
        }
      },
      "cell_type": "code",
      "source": [
        "print(x_train.shape, 'train samples')\n",
        "print(x_test.shape, 'test samples')"
      ],
      "execution_count": 6,
      "outputs": [
        {
          "output_type": "stream",
          "text": [
            "(60000, 784) train samples\n",
            "(10000, 784) test samples\n"
          ],
          "name": "stdout"
        }
      ]
    },
    {
      "metadata": {
        "id": "FOZDF7A6oBvS",
        "colab_type": "code",
        "outputId": "71ee7f21-211b-4448-9688-7847f5a2c836",
        "colab": {
          "base_uri": "https://localhost:8080/",
          "height": 92
        }
      },
      "cell_type": "code",
      "source": [
        "model = Sequential()\n",
        "model.add(Dense(10, input_dim= 784, activation= 'softmax' )) # add softmax activation to inut layer"
      ],
      "execution_count": 7,
      "outputs": [
        {
          "output_type": "stream",
          "text": [
            "WARNING:tensorflow:From /usr/local/lib/python3.6/dist-packages/tensorflow/python/framework/op_def_library.py:263: colocate_with (from tensorflow.python.framework.ops) is deprecated and will be removed in a future version.\n",
            "Instructions for updating:\n",
            "Colocations handled automatically by placer.\n"
          ],
          "name": "stdout"
        }
      ]
    },
    {
      "metadata": {
        "id": "HJgeCeEHqBv-",
        "colab_type": "code",
        "outputId": "64fe9a9f-a659-450b-ec5d-f8bcd44236ff",
        "colab": {
          "base_uri": "https://localhost:8080/",
          "height": 181
        }
      },
      "cell_type": "code",
      "source": [
        "model.summary()"
      ],
      "execution_count": 8,
      "outputs": [
        {
          "output_type": "stream",
          "text": [
            "_________________________________________________________________\n",
            "Layer (type)                 Output Shape              Param #   \n",
            "=================================================================\n",
            "dense_1 (Dense)              (None, 10)                7850      \n",
            "=================================================================\n",
            "Total params: 7,850\n",
            "Trainable params: 7,850\n",
            "Non-trainable params: 0\n",
            "_________________________________________________________________\n"
          ],
          "name": "stdout"
        }
      ]
    },
    {
      "metadata": {
        "id": "W0PUjBcIqxzj",
        "colab_type": "code",
        "outputId": "891bef80-8c9d-4d89-809f-9ddc4acfe026",
        "colab": {
          "base_uri": "https://localhost:8080/",
          "height": 837
        }
      },
      "cell_type": "code",
      "source": [
        "model.compile(optimizer='sgd', loss='categorical_crossentropy', metrics=['accuracy']) # compiling model with optimizer standard gradient descent and loss function of categorical cross entropy method.\n",
        "train = model.fit(x_train, y_train, batch_size = 128,epochs = 20, verbose = 1, validation_data = (x_test, y_test)) # Training model with training data\n",
        "score = model.evaluate(x_test, y_test, verbose = 0) # evaluating the loss in the predicted values."
      ],
      "execution_count": 9,
      "outputs": [
        {
          "output_type": "stream",
          "text": [
            "WARNING:tensorflow:From /usr/local/lib/python3.6/dist-packages/tensorflow/python/ops/math_ops.py:3066: to_int32 (from tensorflow.python.ops.math_ops) is deprecated and will be removed in a future version.\n",
            "Instructions for updating:\n",
            "Use tf.cast instead.\n",
            "Train on 60000 samples, validate on 10000 samples\n",
            "Epoch 1/20\n",
            "60000/60000 [==============================] - 2s 28us/step - loss: 1.2840 - acc: 0.6949 - val_loss: 0.8112 - val_acc: 0.8379\n",
            "Epoch 2/20\n",
            "60000/60000 [==============================] - 1s 18us/step - loss: 0.7136 - acc: 0.8423 - val_loss: 0.6067 - val_acc: 0.8645\n",
            "Epoch 3/20\n",
            "60000/60000 [==============================] - 1s 18us/step - loss: 0.5851 - acc: 0.8605 - val_loss: 0.5253 - val_acc: 0.8737\n",
            "Epoch 4/20\n",
            "60000/60000 [==============================] - 1s 18us/step - loss: 0.5242 - acc: 0.8687 - val_loss: 0.4800 - val_acc: 0.8808\n",
            "Epoch 5/20\n",
            "60000/60000 [==============================] - 1s 18us/step - loss: 0.4870 - acc: 0.8749 - val_loss: 0.4504 - val_acc: 0.8859\n",
            "Epoch 6/20\n",
            "60000/60000 [==============================] - 1s 18us/step - loss: 0.4615 - acc: 0.8799 - val_loss: 0.4296 - val_acc: 0.8908\n",
            "Epoch 7/20\n",
            "60000/60000 [==============================] - 1s 18us/step - loss: 0.4427 - acc: 0.8833 - val_loss: 0.4138 - val_acc: 0.8928\n",
            "Epoch 8/20\n",
            "60000/60000 [==============================] - 1s 18us/step - loss: 0.4279 - acc: 0.8865 - val_loss: 0.4007 - val_acc: 0.8952\n",
            "Epoch 9/20\n",
            "60000/60000 [==============================] - 1s 18us/step - loss: 0.4160 - acc: 0.8885 - val_loss: 0.3904 - val_acc: 0.8974\n",
            "Epoch 10/20\n",
            "60000/60000 [==============================] - 1s 19us/step - loss: 0.4061 - acc: 0.8903 - val_loss: 0.3820 - val_acc: 0.8995\n",
            "Epoch 11/20\n",
            "60000/60000 [==============================] - 1s 18us/step - loss: 0.3978 - acc: 0.8926 - val_loss: 0.3743 - val_acc: 0.9012\n",
            "Epoch 12/20\n",
            "60000/60000 [==============================] - 1s 18us/step - loss: 0.3905 - acc: 0.8938 - val_loss: 0.3682 - val_acc: 0.9021\n",
            "Epoch 13/20\n",
            "60000/60000 [==============================] - 1s 18us/step - loss: 0.3842 - acc: 0.8956 - val_loss: 0.3627 - val_acc: 0.9024\n",
            "Epoch 14/20\n",
            "60000/60000 [==============================] - 1s 18us/step - loss: 0.3786 - acc: 0.8965 - val_loss: 0.3575 - val_acc: 0.9031\n",
            "Epoch 15/20\n",
            "60000/60000 [==============================] - 1s 18us/step - loss: 0.3736 - acc: 0.8978 - val_loss: 0.3530 - val_acc: 0.9045\n",
            "Epoch 16/20\n",
            "60000/60000 [==============================] - 1s 18us/step - loss: 0.3691 - acc: 0.8984 - val_loss: 0.3493 - val_acc: 0.9050\n",
            "Epoch 17/20\n",
            "60000/60000 [==============================] - 1s 19us/step - loss: 0.3650 - acc: 0.8993 - val_loss: 0.3455 - val_acc: 0.9056\n",
            "Epoch 18/20\n",
            "60000/60000 [==============================] - 1s 18us/step - loss: 0.3613 - acc: 0.9001 - val_loss: 0.3424 - val_acc: 0.9071\n",
            "Epoch 19/20\n",
            "60000/60000 [==============================] - 1s 18us/step - loss: 0.3579 - acc: 0.9015 - val_loss: 0.3394 - val_acc: 0.9073\n",
            "Epoch 20/20\n",
            "60000/60000 [==============================] - 1s 19us/step - loss: 0.3547 - acc: 0.9022 - val_loss: 0.3365 - val_acc: 0.9081\n"
          ],
          "name": "stdout"
        }
      ]
    },
    {
      "metadata": {
        "id": "Wg9aiL2Ir_d0",
        "colab_type": "code",
        "outputId": "2ef3d9cf-2149-43fc-f70b-4b84e57cb131",
        "colab": {
          "base_uri": "https://localhost:8080/",
          "height": 92
        }
      },
      "cell_type": "code",
      "source": [
        "print(train.history)\n",
        "print('test score:', score[0])\n",
        "print('test accuracy:', score[1]*100,'%')"
      ],
      "execution_count": 10,
      "outputs": [
        {
          "output_type": "stream",
          "text": [
            "{'val_loss': [0.8112494287490845, 0.6066961763858795, 0.5252962179660797, 0.4799949333190918, 0.4504144729137421, 0.4296131407737732, 0.41381105666160584, 0.400692005109787, 0.39035383200645446, 0.3820487512588501, 0.37429180793762207, 0.36824473090171816, 0.36274192357063295, 0.35749233717918394, 0.3530300505399704, 0.3492775650024414, 0.345467910861969, 0.3423562077999115, 0.33935503282546997, 0.3365019945383072], 'val_acc': [0.8379, 0.8645, 0.8737, 0.8808, 0.8859, 0.8908, 0.8928, 0.8952, 0.8974, 0.8995, 0.9012, 0.9021, 0.9024, 0.9031, 0.9045, 0.905, 0.9056, 0.9071, 0.9073, 0.9081], 'loss': [1.2839972737312317, 0.7135890680631002, 0.585125565179189, 0.5241560609976451, 0.4870329933484395, 0.4615422407309214, 0.4426759708404541, 0.42793772219022114, 0.41604322636922203, 0.40613897142410277, 0.397761375284195, 0.39049280028343203, 0.3842071048895518, 0.37858219319979347, 0.3735609695116679, 0.36908728817303976, 0.3649784547328949, 0.3612607028802236, 0.3578808468182882, 0.3546772106965383], 'acc': [0.6948999999682108, 0.8422833333015441, 0.8605333333651225, 0.8687333333015442, 0.8749333333015442, 0.8798666666348776, 0.88335, 0.8864666666348775, 0.8885166666666666, 0.89035, 0.8925666666666666, 0.8938, 0.8956166666348775, 0.8965166666666666, 0.8978333333333334, 0.8983833333333333, 0.8993499999682109, 0.9001, 0.9015166666984558, 0.9022]}\n",
            "test score: 0.336501993983984\n",
            "test accuracy: 90.81 %\n"
          ],
          "name": "stdout"
        }
      ]
    },
    {
      "metadata": {
        "id": "7PgeEhDouz_G",
        "colab_type": "code",
        "colab": {
          "base_uri": "https://localhost:8080/",
          "height": 361
        },
        "outputId": "6e97da7e-337b-4774-9f6c-b4a2704804d4"
      },
      "cell_type": "code",
      "source": [
        "plt.plot(range(1, 21), train.history['acc'], range(1, 21), train.history['val_acc'])\n",
        "plt.xlabel('No. of Epochs')\n",
        "plt.ylabel('Accuracy')\n",
        "plt.legend(('Accuracy- Training Dataset', 'Accuracy- Test Dataset'))\n",
        "plt.show()"
      ],
      "execution_count": 17,
      "outputs": [
        {
          "output_type": "display_data",
          "data": {
            "image/png": "[encoded data removed]",
            "text/plain": [
              "<Figure size 576x396 with 1 Axes>"
            ]
          },
          "metadata": {
            "tags": []
          }
        }
      ]
    },
    {
      "metadata": {
        "id": "6vyA0NyjKEIV",
        "colab_type": "code",
        "colab": {}
      },
      "cell_type": "code",
      "source": [
        ""
      ],
      "execution_count": 0,
      "outputs": []
    }
  ]
}