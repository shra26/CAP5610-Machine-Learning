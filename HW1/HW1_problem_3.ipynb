{
  "nbformat": 4,
  "nbformat_minor": 0,
  "metadata": {
    "colab": {
      "name": "HW1-problem-3.ipynb",
      "version": "0.3.2",
      "provenance": [],
      "collapsed_sections": []
    },
    "kernelspec": {
      "name": "python3",
      "display_name": "Python 3"
    }
  },
  "cells": [
    {
      "metadata": {
        "id": "-Bqt1u81tBM1",
        "colab_type": "code",
        "outputId": "06641b73-ad68-4ab0-c699-6bf4bb729749",
        "colab": {
          "base_uri": "https://localhost:8080/",
          "height": 35
        }
      },
      "cell_type": "code",
      "source": [
        "import keras\n",
        "from keras.datasets import mnist\n",
        "from keras import backend\n",
        "import numpy as np\n",
        "import matplotlib.pyplot as plt"
      ],
      "execution_count": 1,
      "outputs": [
        {
          "output_type": "stream",
          "text": [
            "Using TensorFlow backend.\n"
          ],
          "name": "stderr"
        }
      ]
    },
    {
      "metadata": {
        "id": "WJq4d_33tuBQ",
        "colab_type": "code",
        "colab": {}
      },
      "cell_type": "code",
      "source": [
        "learn_rate = 0.005 # learning rate on backward propagation\n",
        "batch_size = 40 # batch size\n",
        "epochs = 20# number of re-runs of each batch\n",
        "arr = [] # to store the accuracy change over each epoch"
      ],
      "execution_count": 0,
      "outputs": []
    },
    {
      "metadata": {
        "id": "enZwWkUfueov",
        "colab_type": "code",
        "colab": {}
      },
      "cell_type": "code",
      "source": [
        "(x_train, y_train), (x_test, y_test) = mnist.load_data() # load MNIST dataset into training and test sets."
      ],
      "execution_count": 0,
      "outputs": []
    },
    {
      "metadata": {
        "id": "FXNOwBdou5ht",
        "colab_type": "code",
        "colab": {}
      },
      "cell_type": "code",
      "source": [
        "x_train = x_train.reshape(x_train.shape[0], 28*28) # data reshape before normalization\n",
        "y_train = keras.utils.to_categorical(y_train, 10) #convert to categorical data instead of numerical data"
      ],
      "execution_count": 0,
      "outputs": []
    },
    {
      "metadata": {
        "id": "ZBF7UmWHu7ET",
        "colab_type": "code",
        "colab": {}
      },
      "cell_type": "code",
      "source": [
        "x_test = x_test.reshape(x_test.shape[0],28*28) # data reshape before normalization\n",
        "temp = y_test # saving original y values for final check\n",
        "y_test = keras.utils.to_categorical(y_test,10) # convert to categorical data instead of numerical data"
      ],
      "execution_count": 0,
      "outputs": []
    },
    {
      "metadata": {
        "id": "15D-JJjPvKsY",
        "colab_type": "code",
        "colab": {}
      },
      "cell_type": "code",
      "source": [
        "x_train = x_train.astype('float32') # Define as float32 type\n",
        "x_test = x_test.astype('float32') # Define as float32 type\n",
        "x_train = x_train / 255 # normalization\n",
        "x_test = x_test / 255 # normalization"
      ],
      "execution_count": 0,
      "outputs": []
    },
    {
      "metadata": {
        "id": "-ybQpmD511RO",
        "colab_type": "code",
        "colab": {}
      },
      "cell_type": "code",
      "source": [
        "#  Softmax algorithm\n",
        "def softmax(x):\n",
        "  return np.exp(x) / np.sum(np.exp(x), axis = 0, keepdims= True) "
      ],
      "execution_count": 0,
      "outputs": []
    },
    {
      "metadata": {
        "id": "JXqssgmy2Ief",
        "colab_type": "code",
        "colab": {}
      },
      "cell_type": "code",
      "source": [
        "# Input layer with activation function for training the model\n",
        "def forward_prop(w,b,x):\n",
        "  return softmax(np.dot(w,np.transpose(x)) + b)"
      ],
      "execution_count": 0,
      "outputs": []
    },
    {
      "metadata": {
        "id": "pDiuobpk4ny5",
        "colab_type": "code",
        "colab": {}
      },
      "cell_type": "code",
      "source": [
        "# backward propagation for training the model\n",
        "def train(x_train, y_train, z, w, b):\n",
        "  diff_l = z - np.transpose(y_train)\n",
        "  diff_w = np.dot(diff_l, x_train)\n",
        "  diff_b = np.sum(diff_l, axis = 1, keepdims= True)\n",
        "  w -= learn_rate * diff_w\n",
        "  b -= learn_rate * diff_b\n",
        "  return w,b  "
      ],
      "execution_count": 0,
      "outputs": []
    },
    {
      "metadata": {
        "id": "YDtKh1qxDqV0",
        "colab_type": "code",
        "outputId": "110e6073-fd74-418f-9bc6-24f9d9d7e96a",
        "colab": {
          "base_uri": "https://localhost:8080/",
          "height": 745
        }
      },
      "cell_type": "code",
      "source": [
        "# initialization of random weights and bias values.\n",
        "np.random.seed(1) # same seed for random functions used so keep the the pseudo random numbers similar. \n",
        "w = np.random.randn(10,784) * 0.01\n",
        "b = np.random.randn(10,1)\n",
        "for i in range(epochs):\n",
        "  for j in range(0,len(x_train),batch_size):\n",
        "    z = forward_prop(w,b,x_train[j : j + batch_size]) # Forward propagation for training the model\n",
        "    w, b = train(x_train[j : j + batch_size], y_train[j : j + batch_size], z, w, b)\n",
        "  z = np.transpose(forward_prop(w,b,x_test))\n",
        "  li = []\n",
        "  for n in range(10000):\n",
        "    li.append(np.argmax(z[n]))\n",
        "  counter = 0\n",
        "  for m in range(10000):\n",
        "    if li[m] == temp[m]:\n",
        "      counter = counter + 1\n",
        "  print('Epoch: ', i + 1)\n",
        "  print('Accuracy: ', counter * 0.01)\n",
        "  arr.append(counter * 0.01)"
      ],
      "execution_count": 10,
      "outputs": [
        {
          "output_type": "stream",
          "text": [
            "Epoch:  1\n",
            "Accuracy:  90.93\n",
            "Epoch:  2\n",
            "Accuracy:  91.2\n",
            "Epoch:  3\n",
            "Accuracy:  91.39\n",
            "Epoch:  4\n",
            "Accuracy:  91.46000000000001\n",
            "Epoch:  5\n",
            "Accuracy:  91.57000000000001\n",
            "Epoch:  6\n",
            "Accuracy:  91.57000000000001\n",
            "Epoch:  7\n",
            "Accuracy:  91.62\n",
            "Epoch:  8\n",
            "Accuracy:  91.63\n",
            "Epoch:  9\n",
            "Accuracy:  91.63\n",
            "Epoch:  10\n",
            "Accuracy:  91.68\n",
            "Epoch:  11\n",
            "Accuracy:  91.7\n",
            "Epoch:  12\n",
            "Accuracy:  91.76\n",
            "Epoch:  13\n",
            "Accuracy:  91.76\n",
            "Epoch:  14\n",
            "Accuracy:  91.77\n",
            "Epoch:  15\n",
            "Accuracy:  91.81\n",
            "Epoch:  16\n",
            "Accuracy:  91.86\n",
            "Epoch:  17\n",
            "Accuracy:  91.88\n",
            "Epoch:  18\n",
            "Accuracy:  91.87\n",
            "Epoch:  19\n",
            "Accuracy:  91.89\n",
            "Epoch:  20\n",
            "Accuracy:  91.91\n"
          ],
          "name": "stdout"
        }
      ]
    },
    {
      "metadata": {
        "id": "lPdnMc9VPuWK",
        "colab_type": "code",
        "colab": {
          "base_uri": "https://localhost:8080/",
          "height": 379
        },
        "outputId": "ad668ad3-ed3e-4f3c-9283-8ccd47ec630f"
      },
      "cell_type": "code",
      "source": [
        "# Plotting the graph to visualize increase in accuracy of the model over the epochs\n",
        "plt.plot(arr, label= 'Accuracy')\n",
        "plt.xlabel('No. of Epochs')\n",
        "plt.ylabel('Accuracy')\n",
        "plt.legend()\n",
        "# plt.show()"
      ],
      "execution_count": 11,
      "outputs": [
        {
          "output_type": "execute_result",
          "data": {
            "text/plain": [
              "<matplotlib.legend.Legend at 0x7f94a7042630>"
            ]
          },
          "metadata": {
            "tags": []
          },
          "execution_count": 11
        },
        {
          "output_type": "display_data",
          "data": {
            "image/png": "[encoded data removed]",
            "text/plain": [
              "<Figure size 576x396 with 1 Axes>"
            ]
          },
          "metadata": {
            "tags": []
          }
        }
      ]
    }
  ]
}