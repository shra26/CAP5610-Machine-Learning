{
  "nbformat": 4,
  "nbformat_minor": 0,
  "metadata": {
    "colab": {
      "name": "HW1-problem-5.ipynb",
      "version": "0.3.2",
      "provenance": [],
      "collapsed_sections": []
    },
    "kernelspec": {
      "name": "python3",
      "display_name": "Python 3"
    }
  },
  "cells": [
    {
      "metadata": {
        "id": "1WwyLOBX0RWf",
        "colab_type": "code",
        "outputId": "ef47a3ac-5383-4af3-d057-19ad6bcc6249",
        "colab": {
          "base_uri": "https://localhost:8080/",
          "height": 34
        }
      },
      "cell_type": "code",
      "source": [
        "import keras\n",
        "from keras.datasets import mnist\n",
        "import matplotlib.pyplot as plt"
      ],
      "execution_count": 1,
      "outputs": [
        {
          "output_type": "stream",
          "text": [
            "Using TensorFlow backend.\n"
          ],
          "name": "stderr"
        }
      ]
    },
    {
      "metadata": {
        "id": "88yIBP3Cmpzq",
        "colab_type": "code",
        "colab": {}
      },
      "cell_type": "code",
      "source": [
        "batch_size = 128\n",
        "epochs = 30"
      ],
      "execution_count": 0,
      "outputs": []
    },
    {
      "metadata": {
        "id": "yyXUA2p03D60",
        "colab_type": "code",
        "colab": {}
      },
      "cell_type": "code",
      "source": [
        "(x_train, y_train), (x_test, y_test) = mnist.load_data()"
      ],
      "execution_count": 0,
      "outputs": []
    },
    {
      "metadata": {
        "id": "eTXlaREd3hW4",
        "colab_type": "code",
        "colab": {}
      },
      "cell_type": "code",
      "source": [
        "for i in range(60000):#Training the MNIST train data\n",
        "  if y_train[i] == (1 or 2 or 3 or 4 or 5 or 7):\n",
        "    y_train[i] = 1\n",
        "  elif y_train[i] == (0 or 6 or 9):               #number of regions formed in the 28*28 cells\n",
        "    y_train[i] = 2\n",
        "  elif y_train[i] == 8:\n",
        "    y_train[i] = 3\n",
        "    \n",
        "for i in range(10000):\n",
        "  if y_test[i] == (1 or 2 or 3 or 5 or 7):\n",
        "    y_test[i] = 1\n",
        "  elif y_test[i] == (0 or 6 or 9):\n",
        "    y_test[i] = 2\n",
        "  elif y_test[i] == 8:\n",
        "    y_test[i] = 3"
      ],
      "execution_count": 0,
      "outputs": []
    },
    {
      "metadata": {
        "id": "mjAYCko_3lUQ",
        "colab_type": "code",
        "colab": {}
      },
      "cell_type": "code",
      "source": [
        "x_train = x_train.reshape(60000, 784)\n",
        "y_train = keras.utils.to_categorical(y_train, 10)"
      ],
      "execution_count": 0,
      "outputs": []
    },
    {
      "metadata": {
        "id": "InV7Yhpp37e7",
        "colab_type": "code",
        "colab": {}
      },
      "cell_type": "code",
      "source": [
        "x_test = x_test.reshape(10000, 784)\n",
        "y_test= keras.utils.to_categorical(y_test, 10)"
      ],
      "execution_count": 0,
      "outputs": []
    },
    {
      "metadata": {
        "id": "Rjl1YdCe4LYN",
        "colab_type": "code",
        "colab": {}
      },
      "cell_type": "code",
      "source": [
        "x_train = x_train.astype('float32')\n",
        "x_test= x_test.astype('float32')\n",
        "x_train /= 255\n",
        "x_test /= 255"
      ],
      "execution_count": 0,
      "outputs": []
    },
    {
      "metadata": {
        "id": "eiEa1l-c4O0P",
        "colab_type": "code",
        "colab": {}
      },
      "cell_type": "code",
      "source": [
        "model = keras.models.Sequential()"
      ],
      "execution_count": 0,
      "outputs": []
    },
    {
      "metadata": {
        "id": "BgvG0PKN4hsT",
        "colab_type": "code",
        "outputId": "885be502-806f-4437-c379-010b1060c756",
        "colab": {
          "base_uri": "https://localhost:8080/",
          "height": 88
        }
      },
      "cell_type": "code",
      "source": [
        "model.add(keras.layers.Dense(100, input_dim= 784, activation='relu'))"
      ],
      "execution_count": 9,
      "outputs": [
        {
          "output_type": "stream",
          "text": [
            "WARNING:tensorflow:From /usr/local/lib/python3.6/dist-packages/tensorflow/python/framework/op_def_library.py:263: colocate_with (from tensorflow.python.framework.ops) is deprecated and will be removed in a future version.\n",
            "Instructions for updating:\n",
            "Colocations handled automatically by placer.\n"
          ],
          "name": "stdout"
        }
      ]
    },
    {
      "metadata": {
        "id": "I3xCE4J94nUy",
        "colab_type": "code",
        "colab": {}
      },
      "cell_type": "code",
      "source": [
        "model.add(keras.layers.Dense(10, activation='softmax'))"
      ],
      "execution_count": 0,
      "outputs": []
    },
    {
      "metadata": {
        "id": "CVtflpaQF1j4",
        "colab_type": "code",
        "colab": {}
      },
      "cell_type": "code",
      "source": [
        "model.compile(optimizer=keras.optimizers.SGD(lr= 0.05), loss=keras.losses.categorical_crossentropy, metrics=['accuracy'])"
      ],
      "execution_count": 0,
      "outputs": []
    },
    {
      "metadata": {
        "id": "16T34tDHjTrr",
        "colab_type": "code",
        "outputId": "1f760265-eb25-487a-ec64-516f5131cddf",
        "colab": {
          "base_uri": "https://localhost:8080/",
          "height": 1193
        }
      },
      "cell_type": "code",
      "source": [
        "train = model.fit(x_train, y_train, batch_size= batch_size, epochs= epochs, verbose =1, validation_data= (x_test, y_test))\n",
        "val = model.evaluate(x_test, y_test, verbose = 0)\n",
        "print('Lose: ', val[0])\n",
        "print('Accuracy: ', val[1] * 100, '%')\n",
        "print(train.history)\n",
        "print(val)"
      ],
      "execution_count": 12,
      "outputs": [
        {
          "output_type": "stream",
          "text": [
            "WARNING:tensorflow:From /usr/local/lib/python3.6/dist-packages/tensorflow/python/ops/math_ops.py:3066: to_int32 (from tensorflow.python.ops.math_ops) is deprecated and will be removed in a future version.\n",
            "Instructions for updating:\n",
            "Use tf.cast instead.\n",
            "Train on 60000 samples, validate on 10000 samples\n",
            "Epoch 1/30\n",
            "60000/60000 [==============================] - 2s 34us/step - loss: 0.5322 - acc: 0.8504 - val_loss: 0.3181 - val_acc: 0.9078\n",
            "Epoch 2/30\n",
            "60000/60000 [==============================] - 2s 34us/step - loss: 0.2927 - acc: 0.9145 - val_loss: 0.2611 - val_acc: 0.9244\n",
            "Epoch 3/30\n",
            "60000/60000 [==============================] - 2s 34us/step - loss: 0.2470 - acc: 0.9276 - val_loss: 0.2301 - val_acc: 0.9341\n",
            "Epoch 4/30\n",
            "60000/60000 [==============================] - 2s 35us/step - loss: 0.2182 - acc: 0.9369 - val_loss: 0.2095 - val_acc: 0.9378\n",
            "Epoch 5/30\n",
            "60000/60000 [==============================] - 2s 35us/step - loss: 0.1972 - acc: 0.9427 - val_loss: 0.1931 - val_acc: 0.9439\n",
            "Epoch 6/30\n",
            "60000/60000 [==============================] - 2s 35us/step - loss: 0.1804 - acc: 0.9473 - val_loss: 0.1824 - val_acc: 0.9457\n",
            "Epoch 7/30\n",
            "60000/60000 [==============================] - 2s 34us/step - loss: 0.1663 - acc: 0.9519 - val_loss: 0.1665 - val_acc: 0.9500\n",
            "Epoch 8/30\n",
            "60000/60000 [==============================] - 2s 35us/step - loss: 0.1545 - acc: 0.9544 - val_loss: 0.1567 - val_acc: 0.9526\n",
            "Epoch 9/30\n",
            "60000/60000 [==============================] - 2s 34us/step - loss: 0.1441 - acc: 0.9581 - val_loss: 0.1472 - val_acc: 0.9557\n",
            "Epoch 10/30\n",
            "60000/60000 [==============================] - 2s 34us/step - loss: 0.1350 - acc: 0.9609 - val_loss: 0.1417 - val_acc: 0.9578\n",
            "Epoch 11/30\n",
            "60000/60000 [==============================] - 2s 34us/step - loss: 0.1274 - acc: 0.9633 - val_loss: 0.1352 - val_acc: 0.9593\n",
            "Epoch 12/30\n",
            "60000/60000 [==============================] - 2s 35us/step - loss: 0.1202 - acc: 0.9657 - val_loss: 0.1301 - val_acc: 0.9619\n",
            "Epoch 13/30\n",
            "60000/60000 [==============================] - 2s 34us/step - loss: 0.1141 - acc: 0.9668 - val_loss: 0.1269 - val_acc: 0.9611\n",
            "Epoch 14/30\n",
            "60000/60000 [==============================] - 2s 34us/step - loss: 0.1084 - acc: 0.9687 - val_loss: 0.1217 - val_acc: 0.9630\n",
            "Epoch 15/30\n",
            "60000/60000 [==============================] - 2s 33us/step - loss: 0.1030 - acc: 0.9704 - val_loss: 0.1163 - val_acc: 0.9661\n",
            "Epoch 16/30\n",
            "60000/60000 [==============================] - 2s 35us/step - loss: 0.0989 - acc: 0.9720 - val_loss: 0.1138 - val_acc: 0.9656\n",
            "Epoch 17/30\n",
            "60000/60000 [==============================] - 2s 34us/step - loss: 0.0943 - acc: 0.9731 - val_loss: 0.1105 - val_acc: 0.9673\n",
            "Epoch 18/30\n",
            "60000/60000 [==============================] - 2s 34us/step - loss: 0.0905 - acc: 0.9740 - val_loss: 0.1076 - val_acc: 0.9678\n",
            "Epoch 19/30\n",
            "60000/60000 [==============================] - 2s 35us/step - loss: 0.0869 - acc: 0.9756 - val_loss: 0.1054 - val_acc: 0.9675\n",
            "Epoch 20/30\n",
            "60000/60000 [==============================] - 2s 35us/step - loss: 0.0838 - acc: 0.9761 - val_loss: 0.1028 - val_acc: 0.9692\n",
            "Epoch 21/30\n",
            "60000/60000 [==============================] - 2s 33us/step - loss: 0.0806 - acc: 0.9775 - val_loss: 0.1005 - val_acc: 0.9701\n",
            "Epoch 22/30\n",
            "60000/60000 [==============================] - 2s 35us/step - loss: 0.0777 - acc: 0.9783 - val_loss: 0.0972 - val_acc: 0.9709\n",
            "Epoch 23/30\n",
            "60000/60000 [==============================] - 2s 34us/step - loss: 0.0750 - acc: 0.9784 - val_loss: 0.0963 - val_acc: 0.9710\n",
            "Epoch 24/30\n",
            "60000/60000 [==============================] - 2s 34us/step - loss: 0.0725 - acc: 0.9797 - val_loss: 0.0943 - val_acc: 0.9715\n",
            "Epoch 25/30\n",
            "60000/60000 [==============================] - 2s 33us/step - loss: 0.0701 - acc: 0.9806 - val_loss: 0.0951 - val_acc: 0.9721\n",
            "Epoch 26/30\n",
            "60000/60000 [==============================] - 2s 35us/step - loss: 0.0679 - acc: 0.9813 - val_loss: 0.0916 - val_acc: 0.9727\n",
            "Epoch 27/30\n",
            "60000/60000 [==============================] - 2s 33us/step - loss: 0.0659 - acc: 0.9818 - val_loss: 0.0892 - val_acc: 0.9724\n",
            "Epoch 28/30\n",
            "60000/60000 [==============================] - 2s 34us/step - loss: 0.0637 - acc: 0.9822 - val_loss: 0.0898 - val_acc: 0.9725\n",
            "Epoch 29/30\n",
            "60000/60000 [==============================] - 2s 35us/step - loss: 0.0620 - acc: 0.9829 - val_loss: 0.0883 - val_acc: 0.9731\n",
            "Epoch 30/30\n",
            "60000/60000 [==============================] - 2s 34us/step - loss: 0.0601 - acc: 0.9836 - val_loss: 0.0862 - val_acc: 0.9725\n",
            "Lose:  0.08618681287281216\n",
            "Accuracy:  97.25 %\n",
            "{'val_loss': [0.31808643369674683, 0.2610501579403877, 0.23012250437140463, 0.20953560415506364, 0.19305751630663873, 0.18243660246133805, 0.16652306201159955, 0.15667949732095002, 0.14720657961964606, 0.1416800487458706, 0.13518691372424363, 0.13007061849981547, 0.1269340518593788, 0.12166138855665923, 0.11627614865526557, 0.11379627722203732, 0.11050551595240832, 0.10755077511668205, 0.10542880593165756, 0.10281017075553536, 0.10046473554335535, 0.09724091831594706, 0.09634795844629407, 0.09430307553261519, 0.0950619389038533, 0.09162014713957906, 0.08919553302675486, 0.08984559010863304, 0.0883328967448324, 0.08618680900037289], 'val_acc': [0.9078, 0.9244, 0.9341, 0.9378, 0.9439, 0.9457, 0.95, 0.9526, 0.9557, 0.9578, 0.9593, 0.9619, 0.9611, 0.963, 0.9661, 0.9656, 0.9673, 0.9678, 0.9675, 0.9692, 0.9701, 0.9709, 0.971, 0.9715, 0.9721, 0.9727, 0.9724, 0.9725, 0.9731, 0.9725], 'loss': [0.5322329918225607, 0.29268206315835316, 0.24695944658120472, 0.21824436778227488, 0.19720579319794973, 0.18043896972735723, 0.1663154461781184, 0.15446300105253855, 0.14413866734902064, 0.13504360307852428, 0.12735667346715926, 0.12021172457933425, 0.11414705643653869, 0.10836193460126718, 0.10302744963963827, 0.09890372357765834, 0.09432785889307659, 0.09045936982830366, 0.08689326102137565, 0.08376601404945055, 0.08056778167088827, 0.07765188633203507, 0.07495645445783933, 0.072467436448733, 0.07012892449696859, 0.06789473293920358, 0.06586558640003204, 0.06370530820687612, 0.06199384392996629, 0.06009087799390157], 'acc': [0.8504166666984558, 0.9145, 0.9275666666348775, 0.9368666666666666, 0.9427333333015442, 0.9473, 0.9519166666984558, 0.9543833333333334, 0.9581000000317892, 0.9609333333015442, 0.9632833333651225, 0.9656666666666667, 0.9668166666348775, 0.9687166666666667, 0.9704166666348776, 0.9719666666984558, 0.9731, 0.9740166666348775, 0.9755666666666667, 0.9760666666348775, 0.9774833333015442, 0.9782833333333333, 0.9784166666348775, 0.9797000000317891, 0.9806166666984558, 0.9813, 0.9817666666666667, 0.9822499999682108, 0.98295, 0.9836166666984558]}\n",
            "[0.08618681287281216, 0.9725]\n"
          ],
          "name": "stdout"
        }
      ]
    },
    {
      "metadata": {
        "id": "vVKxtzdyNXki",
        "colab_type": "code",
        "colab": {
          "base_uri": "https://localhost:8080/",
          "height": 361
        },
        "outputId": "2ae8965f-1ce9-46bb-f8df-b85d953a0c7d"
      },
      "cell_type": "code",
      "source": [
        "plt.plot(range(1,31),train.history['acc'],range(1,31), train.history['val_acc'])\n",
        "plt.xlabel('No. of Epochs')\n",
        "plt.ylabel('Accuracy')\n",
        "plt.legend(('Accuracy- Training Dataset', 'Accuracy- Test Dataset'))\n",
        "plt.show()"
      ],
      "execution_count": 22,
      "outputs": [
        {
          "output_type": "display_data",
          "data": {
            "image/png": "[encoded data removed]",
            "text/plain": [
              "<Figure size 576x396 with 1 Axes>"
            ]
          },
          "metadata": {
            "tags": []
          }
        }
      ]
    }
  ]
}